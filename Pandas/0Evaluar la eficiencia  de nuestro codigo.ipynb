{
 "cells": [
  {
   "cell_type": "code",
   "execution_count": null,
   "metadata": {},
   "outputs": [],
   "source": [
    "#tiempo que tarda el codigo en ejeutar "
   ]
  },
  {
   "cell_type": "code",
   "execution_count": 4,
   "metadata": {},
   "outputs": [
    {
     "name": "stdout",
     "output_type": "stream",
     "text": [
      "0.5197758674621582\n"
     ]
    }
   ],
   "source": [
    "import time\n",
    "start= time.time()\n",
    "\n",
    "#uestro codigo \n",
    "time.sleep(0.5)\n",
    "\n",
    "end=time.time()\n",
    "print(end-start)\n"
   ]
  },
  {
   "cell_type": "code",
   "execution_count": null,
   "metadata": {},
   "outputs": [],
   "source": [
    "#tiempo  horas minutos dias de ejecucuion"
   ]
  },
  {
   "cell_type": "code",
   "execution_count": 7,
   "metadata": {},
   "outputs": [
    {
     "name": "stdout",
     "output_type": "stream",
     "text": [
      "0:00:01\n"
     ]
    }
   ],
   "source": [
    "from datetime import timedelta\n",
    "start=time.monotonic()\n",
    "\n",
    "#nuestro codifgo\n",
    "time.sleep(1)\n",
    "\n",
    "end= time.monotonic()\n",
    "print (timedelta(seconds= end- start ))"
   ]
  },
  {
   "cell_type": "code",
   "execution_count": 9,
   "metadata": {},
   "outputs": [
    {
     "name": "stdout",
     "output_type": "stream",
     "text": [
      "False\n"
     ]
    }
   ],
   "source": [
    "start= time.time()\n",
    "\n",
    "#uestro codigo \n",
    "time.sleep(0.5)\n",
    "\n",
    "end=time.time()\n",
    "\n",
    "start2= time.time()\n",
    "\n",
    "#uestro codigo \n",
    "time.sleep(0.501)\n",
    "\n",
    "end2=time.time()\n",
    "print(end-start>end-start)"
   ]
  }
 ],
 "metadata": {
  "kernelspec": {
   "display_name": "Python 3",
   "language": "python",
   "name": "python3"
  },
  "language_info": {
   "codemirror_mode": {
    "name": "ipython",
    "version": 3
   },
   "file_extension": ".py",
   "mimetype": "text/x-python",
   "name": "python",
   "nbconvert_exporter": "python",
   "pygments_lexer": "ipython3",
   "version": "3.7.3"
  }
 },
 "nbformat": 4,
 "nbformat_minor": 2
}
