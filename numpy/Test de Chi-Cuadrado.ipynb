{
 "cells": [
  {
   "cell_type": "code",
   "execution_count": 1,
   "metadata": {},
   "outputs": [],
   "source": [
    "import pandas as pd \n",
    "import numpy as np\n",
    "df=pd.read_csv(\"C:/Users/polla/Desktop/curso python esecencial ciencia de datos/numpy/datos1.csv\" )"
   ]
  },
  {
   "cell_type": "code",
   "execution_count": 2,
   "metadata": {},
   "outputs": [
    {
     "data": {
      "text/html": [
       "<div>\n",
       "<style scoped>\n",
       "    .dataframe tbody tr th:only-of-type {\n",
       "        vertical-align: middle;\n",
       "    }\n",
       "\n",
       "    .dataframe tbody tr th {\n",
       "        vertical-align: top;\n",
       "    }\n",
       "\n",
       "    .dataframe thead th {\n",
       "        text-align: right;\n",
       "    }\n",
       "</style>\n",
       "<table border=\"1\" class=\"dataframe\">\n",
       "  <thead>\n",
       "    <tr style=\"text-align: right;\">\n",
       "      <th></th>\n",
       "      <th>Price</th>\n",
       "      <th>Bathrooms</th>\n",
       "      <th>Bedrooms</th>\n",
       "      <th>ParkingSlots</th>\n",
       "      <th>SquareMeters</th>\n",
       "      <th>GpsLongitude</th>\n",
       "      <th>GpsLatitude</th>\n",
       "      <th>Municipio</th>\n",
       "      <th>Estado</th>\n",
       "    </tr>\n",
       "  </thead>\n",
       "  <tbody>\n",
       "    <tr>\n",
       "      <th>0</th>\n",
       "      <td>9500000.0</td>\n",
       "      <td>4</td>\n",
       "      <td>4</td>\n",
       "      <td>4</td>\n",
       "      <td>470.0</td>\n",
       "      <td>-89.611038</td>\n",
       "      <td>21.063482</td>\n",
       "      <td>Merida</td>\n",
       "      <td>Yucatán</td>\n",
       "    </tr>\n",
       "    <tr>\n",
       "      <th>1</th>\n",
       "      <td>799999.0</td>\n",
       "      <td>2</td>\n",
       "      <td>2</td>\n",
       "      <td>1</td>\n",
       "      <td>71.0</td>\n",
       "      <td>-100.398136</td>\n",
       "      <td>20.663553</td>\n",
       "      <td>Santiago de Querétaro</td>\n",
       "      <td>Querétaro</td>\n",
       "    </tr>\n",
       "    <tr>\n",
       "      <th>2</th>\n",
       "      <td>5250000.0</td>\n",
       "      <td>3</td>\n",
       "      <td>3</td>\n",
       "      <td>2</td>\n",
       "      <td>177.0</td>\n",
       "      <td>-99.299350</td>\n",
       "      <td>19.355751</td>\n",
       "      <td>Cuajimalpa</td>\n",
       "      <td>Ciudad de México</td>\n",
       "    </tr>\n",
       "    <tr>\n",
       "      <th>3</th>\n",
       "      <td>8200000.0</td>\n",
       "      <td>2</td>\n",
       "      <td>3</td>\n",
       "      <td>3</td>\n",
       "      <td>156.0</td>\n",
       "      <td>-99.164989</td>\n",
       "      <td>19.393514</td>\n",
       "      <td>Benito Juarez</td>\n",
       "      <td>Ciudad de México</td>\n",
       "    </tr>\n",
       "    <tr>\n",
       "      <th>4</th>\n",
       "      <td>6250000.0</td>\n",
       "      <td>3</td>\n",
       "      <td>3</td>\n",
       "      <td>3</td>\n",
       "      <td>200.0</td>\n",
       "      <td>-99.293693</td>\n",
       "      <td>19.356364</td>\n",
       "      <td>Cuajimalpa</td>\n",
       "      <td>Ciudad de México</td>\n",
       "    </tr>\n",
       "  </tbody>\n",
       "</table>\n",
       "</div>"
      ],
      "text/plain": [
       "       Price  Bathrooms  Bedrooms  ParkingSlots  SquareMeters  GpsLongitude  \\\n",
       "0  9500000.0          4         4             4         470.0    -89.611038   \n",
       "1   799999.0          2         2             1          71.0   -100.398136   \n",
       "2  5250000.0          3         3             2         177.0    -99.299350   \n",
       "3  8200000.0          2         3             3         156.0    -99.164989   \n",
       "4  6250000.0          3         3             3         200.0    -99.293693   \n",
       "\n",
       "   GpsLatitude              Municipio            Estado  \n",
       "0    21.063482                 Merida           Yucatán  \n",
       "1    20.663553  Santiago de Querétaro         Querétaro  \n",
       "2    19.355751             Cuajimalpa  Ciudad de México  \n",
       "3    19.393514          Benito Juarez  Ciudad de México  \n",
       "4    19.356364             Cuajimalpa  Ciudad de México  "
      ]
     },
     "execution_count": 2,
     "metadata": {},
     "output_type": "execute_result"
    }
   ],
   "source": [
    "df.head()"
   ]
  },
  {
   "cell_type": "markdown",
   "metadata": {},
   "source": [
    "**relacion entre variables cualitativas de chi cuadrado donde no existe relacion entre variables \n",
    "pero permite cuantificar la magnitud de estas distancias  comparar las con las de chi cuadrado \n",
    "y decidir si podemos afirmar si estas  variables estan relacionadas significativamentre \n",
    "no permite cuantificar cada una de las relaciones entre categorias.\n",
    "permite ver relacion como por ejemplo  fumar esta relacionado con el cancer de pulmon."
   ]
  },
  {
   "cell_type": "code",
   "execution_count": 3,
   "metadata": {},
   "outputs": [],
   "source": [
    "np.random.seed(0) #generar numeros psudoaleatorios\n",
    "df=df[df[\"Estado\"].isin([\"Yucatán\",\"Querétaro\",\"Ciudad de México\"])]#casos de estados con los nombres seleccionado \n",
    "df=df.sample(frac=1)\n",
    "df=df[0:1000]#seleccionar las primeras 100"
   ]
  },
  {
   "cell_type": "code",
   "execution_count": 8,
   "metadata": {},
   "outputs": [
    {
     "data": {
      "text/html": [
       "<div>\n",
       "<style scoped>\n",
       "    .dataframe tbody tr th:only-of-type {\n",
       "        vertical-align: middle;\n",
       "    }\n",
       "\n",
       "    .dataframe tbody tr th {\n",
       "        vertical-align: top;\n",
       "    }\n",
       "\n",
       "    .dataframe thead th {\n",
       "        text-align: right;\n",
       "    }\n",
       "</style>\n",
       "<table border=\"1\" class=\"dataframe\">\n",
       "  <thead>\n",
       "    <tr style=\"text-align: right;\">\n",
       "      <th></th>\n",
       "      <th>Price</th>\n",
       "      <th>Bathrooms</th>\n",
       "      <th>Bedrooms</th>\n",
       "      <th>ParkingSlots</th>\n",
       "      <th>SquareMeters</th>\n",
       "      <th>GpsLongitude</th>\n",
       "      <th>GpsLatitude</th>\n",
       "      <th>Municipio</th>\n",
       "      <th>Estado</th>\n",
       "    </tr>\n",
       "  </thead>\n",
       "  <tbody>\n",
       "    <tr>\n",
       "      <th>410</th>\n",
       "      <td>2600000.0</td>\n",
       "      <td>2</td>\n",
       "      <td>3</td>\n",
       "      <td>3</td>\n",
       "      <td>180.0</td>\n",
       "      <td>-99.135953</td>\n",
       "      <td>19.265344</td>\n",
       "      <td>Xochimilco</td>\n",
       "      <td>Ciudad de México</td>\n",
       "    </tr>\n",
       "    <tr>\n",
       "      <th>1837</th>\n",
       "      <td>5500000.0</td>\n",
       "      <td>3</td>\n",
       "      <td>3</td>\n",
       "      <td>2</td>\n",
       "      <td>126.0</td>\n",
       "      <td>-99.199012</td>\n",
       "      <td>19.355591</td>\n",
       "      <td>Álvaro Obregón</td>\n",
       "      <td>Ciudad de México</td>\n",
       "    </tr>\n",
       "    <tr>\n",
       "      <th>1980</th>\n",
       "      <td>1500000.0</td>\n",
       "      <td>2</td>\n",
       "      <td>2</td>\n",
       "      <td>1</td>\n",
       "      <td>67.0</td>\n",
       "      <td>-99.098584</td>\n",
       "      <td>19.432218</td>\n",
       "      <td>Venustiano Carranza</td>\n",
       "      <td>Ciudad de México</td>\n",
       "    </tr>\n",
       "    <tr>\n",
       "      <th>5715</th>\n",
       "      <td>3236265.0</td>\n",
       "      <td>2</td>\n",
       "      <td>2</td>\n",
       "      <td>1</td>\n",
       "      <td>82.0</td>\n",
       "      <td>-99.139000</td>\n",
       "      <td>19.369936</td>\n",
       "      <td>Benito Juarez</td>\n",
       "      <td>Ciudad de México</td>\n",
       "    </tr>\n",
       "    <tr>\n",
       "      <th>405</th>\n",
       "      <td>6500000.0</td>\n",
       "      <td>3</td>\n",
       "      <td>3</td>\n",
       "      <td>2</td>\n",
       "      <td>210.0</td>\n",
       "      <td>-99.180198</td>\n",
       "      <td>19.371249</td>\n",
       "      <td>Benito Juarez</td>\n",
       "      <td>Ciudad de México</td>\n",
       "    </tr>\n",
       "    <tr>\n",
       "      <th>...</th>\n",
       "      <td>...</td>\n",
       "      <td>...</td>\n",
       "      <td>...</td>\n",
       "      <td>...</td>\n",
       "      <td>...</td>\n",
       "      <td>...</td>\n",
       "      <td>...</td>\n",
       "      <td>...</td>\n",
       "      <td>...</td>\n",
       "    </tr>\n",
       "    <tr>\n",
       "      <th>2493</th>\n",
       "      <td>1200000.0</td>\n",
       "      <td>3</td>\n",
       "      <td>3</td>\n",
       "      <td>1</td>\n",
       "      <td>80.0</td>\n",
       "      <td>-100.511324</td>\n",
       "      <td>20.655255</td>\n",
       "      <td>Santiago de Querétaro</td>\n",
       "      <td>Querétaro</td>\n",
       "    </tr>\n",
       "    <tr>\n",
       "      <th>15440</th>\n",
       "      <td>17847840.0</td>\n",
       "      <td>4</td>\n",
       "      <td>3</td>\n",
       "      <td>3</td>\n",
       "      <td>206.0</td>\n",
       "      <td>-99.187031</td>\n",
       "      <td>19.373451</td>\n",
       "      <td>Benito Juarez</td>\n",
       "      <td>Ciudad de México</td>\n",
       "    </tr>\n",
       "    <tr>\n",
       "      <th>11075</th>\n",
       "      <td>1062000.0</td>\n",
       "      <td>3</td>\n",
       "      <td>3</td>\n",
       "      <td>2</td>\n",
       "      <td>140.0</td>\n",
       "      <td>-89.554772</td>\n",
       "      <td>21.041127</td>\n",
       "      <td>Merida</td>\n",
       "      <td>Yucatán</td>\n",
       "    </tr>\n",
       "    <tr>\n",
       "      <th>14080</th>\n",
       "      <td>23500000.0</td>\n",
       "      <td>4</td>\n",
       "      <td>4</td>\n",
       "      <td>4</td>\n",
       "      <td>400.0</td>\n",
       "      <td>-99.206093</td>\n",
       "      <td>19.297930</td>\n",
       "      <td>Tlalpan</td>\n",
       "      <td>Ciudad de México</td>\n",
       "    </tr>\n",
       "    <tr>\n",
       "      <th>14760</th>\n",
       "      <td>1300000.0</td>\n",
       "      <td>1</td>\n",
       "      <td>1</td>\n",
       "      <td>4</td>\n",
       "      <td>287.0</td>\n",
       "      <td>-99.954599</td>\n",
       "      <td>20.393607</td>\n",
       "      <td>San Juan del Río Municipality, Querétaro</td>\n",
       "      <td>Querétaro</td>\n",
       "    </tr>\n",
       "  </tbody>\n",
       "</table>\n",
       "<p>1000 rows × 9 columns</p>\n",
       "</div>"
      ],
      "text/plain": [
       "            Price  Bathrooms  Bedrooms  ParkingSlots  SquareMeters  \\\n",
       "410     2600000.0          2         3             3         180.0   \n",
       "1837    5500000.0          3         3             2         126.0   \n",
       "1980    1500000.0          2         2             1          67.0   \n",
       "5715    3236265.0          2         2             1          82.0   \n",
       "405     6500000.0          3         3             2         210.0   \n",
       "...           ...        ...       ...           ...           ...   \n",
       "2493    1200000.0          3         3             1          80.0   \n",
       "15440  17847840.0          4         3             3         206.0   \n",
       "11075   1062000.0          3         3             2         140.0   \n",
       "14080  23500000.0          4         4             4         400.0   \n",
       "14760   1300000.0          1         1             4         287.0   \n",
       "\n",
       "       GpsLongitude  GpsLatitude                                 Municipio  \\\n",
       "410      -99.135953    19.265344                                Xochimilco   \n",
       "1837     -99.199012    19.355591                            Álvaro Obregón   \n",
       "1980     -99.098584    19.432218                       Venustiano Carranza   \n",
       "5715     -99.139000    19.369936                             Benito Juarez   \n",
       "405      -99.180198    19.371249                             Benito Juarez   \n",
       "...             ...          ...                                       ...   \n",
       "2493    -100.511324    20.655255                     Santiago de Querétaro   \n",
       "15440    -99.187031    19.373451                             Benito Juarez   \n",
       "11075    -89.554772    21.041127                                    Merida   \n",
       "14080    -99.206093    19.297930                                   Tlalpan   \n",
       "14760    -99.954599    20.393607  San Juan del Río Municipality, Querétaro   \n",
       "\n",
       "                 Estado  \n",
       "410    Ciudad de México  \n",
       "1837   Ciudad de México  \n",
       "1980   Ciudad de México  \n",
       "5715   Ciudad de México  \n",
       "405    Ciudad de México  \n",
       "...                 ...  \n",
       "2493          Querétaro  \n",
       "15440  Ciudad de México  \n",
       "11075           Yucatán  \n",
       "14080  Ciudad de México  \n",
       "14760         Querétaro  \n",
       "\n",
       "[1000 rows x 9 columns]"
      ]
     },
     "execution_count": 8,
     "metadata": {},
     "output_type": "execute_result"
    }
   ],
   "source": [
    "df.head(1000)"
   ]
  },
  {
   "cell_type": "code",
   "execution_count": 11,
   "metadata": {},
   "outputs": [],
   "source": [
    "df[\"nuevo\"]=df[\"Price\"]>5500000.0 # muestra el precio mayor de el estado seleccionado  y la creacion de nueva columna \n",
    "observados=pd.crosstab(index=df['nuevo'],columns=df['Estado'],margins=True)#crear tabla de contingencia  \n",
    "\n"
   ]
  },
  {
   "cell_type": "code",
   "execution_count": 12,
   "metadata": {},
   "outputs": [
    {
     "data": {
      "text/html": [
       "<div>\n",
       "<style scoped>\n",
       "    .dataframe tbody tr th:only-of-type {\n",
       "        vertical-align: middle;\n",
       "    }\n",
       "\n",
       "    .dataframe tbody tr th {\n",
       "        vertical-align: top;\n",
       "    }\n",
       "\n",
       "    .dataframe thead th {\n",
       "        text-align: right;\n",
       "    }\n",
       "</style>\n",
       "<table border=\"1\" class=\"dataframe\">\n",
       "  <thead>\n",
       "    <tr style=\"text-align: right;\">\n",
       "      <th>Estado</th>\n",
       "      <th>Ciudad de México</th>\n",
       "      <th>Querétaro</th>\n",
       "      <th>Yucatán</th>\n",
       "      <th>All</th>\n",
       "    </tr>\n",
       "    <tr>\n",
       "      <th>nuevo</th>\n",
       "      <th></th>\n",
       "      <th></th>\n",
       "      <th></th>\n",
       "      <th></th>\n",
       "    </tr>\n",
       "  </thead>\n",
       "  <tbody>\n",
       "    <tr>\n",
       "      <th>False</th>\n",
       "      <td>340</td>\n",
       "      <td>224</td>\n",
       "      <td>125</td>\n",
       "      <td>689</td>\n",
       "    </tr>\n",
       "    <tr>\n",
       "      <th>True</th>\n",
       "      <td>271</td>\n",
       "      <td>26</td>\n",
       "      <td>14</td>\n",
       "      <td>311</td>\n",
       "    </tr>\n",
       "    <tr>\n",
       "      <th>All</th>\n",
       "      <td>611</td>\n",
       "      <td>250</td>\n",
       "      <td>139</td>\n",
       "      <td>1000</td>\n",
       "    </tr>\n",
       "  </tbody>\n",
       "</table>\n",
       "</div>"
      ],
      "text/plain": [
       "Estado  Ciudad de México  Querétaro  Yucatán   All\n",
       "nuevo                                             \n",
       "False                340        224      125   689\n",
       "True                 271         26       14   311\n",
       "All                  611        250      139  1000"
      ]
     },
     "execution_count": 12,
     "metadata": {},
     "output_type": "execute_result"
    }
   ],
   "source": [
    "observados #esto es una tabla de contingencia \n",
    "#dice que la ciudad de mexico no es mayor sau precio a 5500000 que son 340 y arriba de los 5500000 hay 271\n",
    "#los all son el numero que pusimos como 1000 es la suma columna all y filla all como una tabla simplex"
   ]
  },
  {
   "cell_type": "code",
   "execution_count": 18,
   "metadata": {},
   "outputs": [
    {
     "name": "stdout",
     "output_type": "stream",
     "text": [
      "Requirement already satisfied: scipy in c:\\users\\polla\\anaconda3\\lib\\site-packages (1.2.1)\n",
      "Note: you may need to restart the kernel to use updated packages.\n"
     ]
    }
   ],
   "source": [
    "pip install scipy # para installar "
   ]
  },
  {
   "cell_type": "code",
   "execution_count": 20,
   "metadata": {},
   "outputs": [],
   "source": [
    "from scipy.stats import chi2_contingency #paquete que va a realizar el test"
   ]
  },
  {
   "cell_type": "code",
   "execution_count": 21,
   "metadata": {},
   "outputs": [],
   "source": [
    "test=chi2_contingency(observados)"
   ]
  },
  {
   "cell_type": "code",
   "execution_count": 22,
   "metadata": {},
   "outputs": [
    {
     "data": {
      "text/plain": [
       "(128.76253832149996,\n",
       " 2.341792159835901e-25,\n",
       " 6,\n",
       " array([[ 420.979,  172.25 ,   95.771,  689.   ],\n",
       "        [ 190.021,   77.75 ,   43.229,  311.   ],\n",
       "        [ 611.   ,  250.   ,  139.   , 1000.   ]]))"
      ]
     },
     "execution_count": 22,
     "metadata": {},
     "output_type": "execute_result"
    }
   ],
   "source": [
    "test"
   ]
  },
  {
   "cell_type": "markdown",
   "metadata": {},
   "source": [
    "(128.76253832149996, ----> **estadistico de la suma de las diferencias de cuadrados **\n",
    " 2.341792159835901e-25,  -----> **P-value perimite tomar decisiones apartir de una criterio\n",
    " 6,\n",
    " array([[ 420.979,  172.25 ,   95.771,  689.   ],\n",
    "        [ 190.021,   77.75 ,   43.229,  311.   ],\n",
    "        [ 611.   ,  250.   ,  139.   , 1000.   ]]))  -----> tabla de valores esperados"
   ]
  },
  {
   "cell_type": "code",
   "execution_count": 24,
   "metadata": {},
   "outputs": [],
   "source": [
    "esperados=pd.DataFrame (test[3])"
   ]
  },
  {
   "cell_type": "code",
   "execution_count": 25,
   "metadata": {},
   "outputs": [
    {
     "data": {
      "text/html": [
       "<div>\n",
       "<style scoped>\n",
       "    .dataframe tbody tr th:only-of-type {\n",
       "        vertical-align: middle;\n",
       "    }\n",
       "\n",
       "    .dataframe tbody tr th {\n",
       "        vertical-align: top;\n",
       "    }\n",
       "\n",
       "    .dataframe thead th {\n",
       "        text-align: right;\n",
       "    }\n",
       "</style>\n",
       "<table border=\"1\" class=\"dataframe\">\n",
       "  <thead>\n",
       "    <tr style=\"text-align: right;\">\n",
       "      <th></th>\n",
       "      <th>0</th>\n",
       "      <th>1</th>\n",
       "      <th>2</th>\n",
       "      <th>3</th>\n",
       "    </tr>\n",
       "  </thead>\n",
       "  <tbody>\n",
       "    <tr>\n",
       "      <th>0</th>\n",
       "      <td>420.979</td>\n",
       "      <td>172.25</td>\n",
       "      <td>95.771</td>\n",
       "      <td>689.0</td>\n",
       "    </tr>\n",
       "    <tr>\n",
       "      <th>1</th>\n",
       "      <td>190.021</td>\n",
       "      <td>77.75</td>\n",
       "      <td>43.229</td>\n",
       "      <td>311.0</td>\n",
       "    </tr>\n",
       "    <tr>\n",
       "      <th>2</th>\n",
       "      <td>611.000</td>\n",
       "      <td>250.00</td>\n",
       "      <td>139.000</td>\n",
       "      <td>1000.0</td>\n",
       "    </tr>\n",
       "  </tbody>\n",
       "</table>\n",
       "</div>"
      ],
      "text/plain": [
       "         0       1        2       3\n",
       "0  420.979  172.25   95.771   689.0\n",
       "1  190.021   77.75   43.229   311.0\n",
       "2  611.000  250.00  139.000  1000.0"
      ]
     },
     "execution_count": 25,
     "metadata": {},
     "output_type": "execute_result"
    }
   ],
   "source": [
    "esperados # solo es una aproximacion teorica"
   ]
  },
  {
   "cell_type": "code",
   "execution_count": 27,
   "metadata": {},
   "outputs": [],
   "source": [
    "esperados_rel = round (esperados.apply(lambda  r: r/len(df)*100 , axis=1),2 )\n",
    "#rel documentos relativos para que sea facil comparar\n",
    "#raund redondeo para que sea facil de interpretar  sobre cada 1 de las tablas  aplicandole una funcion lambda  funcion sin nombre\n",
    "#esta va hacer  cada uno de los valores divididos por el total de valores  multiplicados *100\n",
    "#asi se generar tablas con valores relativos  y no valores absolutos  mas dificil de comparar"
   ]
  },
  {
   "cell_type": "code",
   "execution_count": 35,
   "metadata": {},
   "outputs": [],
   "source": [
    "observados_rel = round (observados.apply(lambda r: r/len(df)*100 , axis=1),2 )"
   ]
  },
  {
   "cell_type": "code",
   "execution_count": 36,
   "metadata": {},
   "outputs": [
    {
     "data": {
      "text/html": [
       "<div>\n",
       "<style scoped>\n",
       "    .dataframe tbody tr th:only-of-type {\n",
       "        vertical-align: middle;\n",
       "    }\n",
       "\n",
       "    .dataframe tbody tr th {\n",
       "        vertical-align: top;\n",
       "    }\n",
       "\n",
       "    .dataframe thead th {\n",
       "        text-align: right;\n",
       "    }\n",
       "</style>\n",
       "<table border=\"1\" class=\"dataframe\">\n",
       "  <thead>\n",
       "    <tr style=\"text-align: right;\">\n",
       "      <th>Estado</th>\n",
       "      <th>Ciudad de México</th>\n",
       "      <th>Querétaro</th>\n",
       "      <th>Yucatán</th>\n",
       "      <th>All</th>\n",
       "    </tr>\n",
       "    <tr>\n",
       "      <th>nuevo</th>\n",
       "      <th></th>\n",
       "      <th></th>\n",
       "      <th></th>\n",
       "      <th></th>\n",
       "    </tr>\n",
       "  </thead>\n",
       "  <tbody>\n",
       "    <tr>\n",
       "      <th>False</th>\n",
       "      <td>34.0</td>\n",
       "      <td>22.4</td>\n",
       "      <td>12.5</td>\n",
       "      <td>68.9</td>\n",
       "    </tr>\n",
       "    <tr>\n",
       "      <th>True</th>\n",
       "      <td>27.1</td>\n",
       "      <td>2.6</td>\n",
       "      <td>1.4</td>\n",
       "      <td>31.1</td>\n",
       "    </tr>\n",
       "    <tr>\n",
       "      <th>All</th>\n",
       "      <td>61.1</td>\n",
       "      <td>25.0</td>\n",
       "      <td>13.9</td>\n",
       "      <td>100.0</td>\n",
       "    </tr>\n",
       "  </tbody>\n",
       "</table>\n",
       "</div>"
      ],
      "text/plain": [
       "Estado  Ciudad de México  Querétaro  Yucatán    All\n",
       "nuevo                                              \n",
       "False               34.0       22.4     12.5   68.9\n",
       "True                27.1        2.6      1.4   31.1\n",
       "All                 61.1       25.0     13.9  100.0"
      ]
     },
     "execution_count": 36,
     "metadata": {},
     "output_type": "execute_result"
    }
   ],
   "source": [
    "observados_rel"
   ]
  },
  {
   "cell_type": "code",
   "execution_count": 31,
   "metadata": {},
   "outputs": [
    {
     "data": {
      "text/html": [
       "<div>\n",
       "<style scoped>\n",
       "    .dataframe tbody tr th:only-of-type {\n",
       "        vertical-align: middle;\n",
       "    }\n",
       "\n",
       "    .dataframe tbody tr th {\n",
       "        vertical-align: top;\n",
       "    }\n",
       "\n",
       "    .dataframe thead th {\n",
       "        text-align: right;\n",
       "    }\n",
       "</style>\n",
       "<table border=\"1\" class=\"dataframe\">\n",
       "  <thead>\n",
       "    <tr style=\"text-align: right;\">\n",
       "      <th></th>\n",
       "      <th>0</th>\n",
       "      <th>1</th>\n",
       "      <th>2</th>\n",
       "      <th>3</th>\n",
       "    </tr>\n",
       "  </thead>\n",
       "  <tbody>\n",
       "    <tr>\n",
       "      <th>0</th>\n",
       "      <td>42.1</td>\n",
       "      <td>17.22</td>\n",
       "      <td>9.58</td>\n",
       "      <td>68.9</td>\n",
       "    </tr>\n",
       "    <tr>\n",
       "      <th>1</th>\n",
       "      <td>19.0</td>\n",
       "      <td>7.78</td>\n",
       "      <td>4.32</td>\n",
       "      <td>31.1</td>\n",
       "    </tr>\n",
       "    <tr>\n",
       "      <th>2</th>\n",
       "      <td>61.1</td>\n",
       "      <td>25.00</td>\n",
       "      <td>13.90</td>\n",
       "      <td>100.0</td>\n",
       "    </tr>\n",
       "  </tbody>\n",
       "</table>\n",
       "</div>"
      ],
      "text/plain": [
       "      0      1      2      3\n",
       "0  42.1  17.22   9.58   68.9\n",
       "1  19.0   7.78   4.32   31.1\n",
       "2  61.1  25.00  13.90  100.0"
      ]
     },
     "execution_count": 31,
     "metadata": {},
     "output_type": "execute_result"
    }
   ],
   "source": [
    "esperados_rel"
   ]
  },
  {
   "cell_type": "markdown",
   "metadata": {},
   "source": [
    "** prueba de decision en estadistico  de chi cuadrada \n",
    "** los margenes deben ser iguales si no es por que algo esta mal \n",
    "** se comparan los resultados cpon esperados con observados si puede ser mayor \n",
    "** para eso se necesita  un test que puede hacer eso comparar , sumar , elevar ^2 y dividirlo generar una distribuicion"
   ]
  },
  {
   "cell_type": "code",
   "execution_count": 37,
   "metadata": {},
   "outputs": [
    {
     "data": {
      "text/plain": [
       "2.341792159835901e-25"
      ]
     },
     "execution_count": 37,
     "metadata": {},
     "output_type": "execute_result"
    }
   ],
   "source": [
    "test[1] # podemos afirmar que no hay relacion entre variables "
   ]
  },
  {
   "cell_type": "markdown",
   "metadata": {},
   "source": []
  },
  {
   "cell_type": "markdown",
   "metadata": {},
   "source": [
    "## Resumen de test de Hipotesis\n",
    "\n",
    "\n",
    "#si el p-value<0.05 hay diferencias significativas:hay relacion entre variables \n",
    "\n",
    "#si el p-value>0.05, no hay diferencias significativas:No hay relacion entre variables \n"
   ]
  },
  {
   "cell_type": "markdown",
   "metadata": {},
   "source": []
  }
 ],
 "metadata": {
  "kernelspec": {
   "display_name": "Python 3",
   "language": "python",
   "name": "python3"
  },
  "language_info": {
   "codemirror_mode": {
    "name": "ipython",
    "version": 3
   },
   "file_extension": ".py",
   "mimetype": "text/x-python",
   "name": "python",
   "nbconvert_exporter": "python",
   "pygments_lexer": "ipython3",
   "version": "3.7.3"
  }
 },
 "nbformat": 4,
 "nbformat_minor": 2
}
