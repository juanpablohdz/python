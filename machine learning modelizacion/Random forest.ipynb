{
 "cells": [
  {
   "cell_type": "code",
   "execution_count": 2,
   "metadata": {},
   "outputs": [
    {
     "name": "stderr",
     "output_type": "stream",
     "text": [
      "C:\\Users\\polla\\Anaconda3\\lib\\importlib\\_bootstrap.py:219: RuntimeWarning: numpy.ufunc size changed, may indicate binary incompatibility. Expected 192 from C header, got 216 from PyObject\n",
      "  return f(*args, **kwds)\n"
     ]
    }
   ],
   "source": [
    "from sklearn import tree\n",
    "import numpy as np\n",
    "import pandas as pd\n",
    "from sklearn.ensemble import RandomForestClassifier\n",
    "\n",
    "\n",
    "df=pd.read_csv(\"C:/Users/polla/Desktop/curso python esecencial ciencia de datos/machine learning clustering/datos1.csv\")\n",
    "df=df.dropna(subset=[\"Bathrooms\",\"Bedrooms\",\"ParkingSlots\",\"SquareMeters\",\"GpsLongitude\",\"GpsLatitude\"])\n",
    "df=df.sample(frac=1)\n",
    "dftest=df.tail(50000)\n",
    "df=df.head(50000)"
   ]
  },
  {
   "cell_type": "code",
   "execution_count": 6,
   "metadata": {},
   "outputs": [],
   "source": [
    "clf=tree.DecisionTreeClassifier() #ajusta arbol de clasificacion \n",
    "X=df[['Bathrooms','Bedrooms','ParkingSlots','SquareMeters','GpsLongitude','GpsLatitude']]\n",
    "X_test=dftest[['Bathrooms','Bedrooms','ParkingSlots','SquareMeters','GpsLongitude','GpsLatitude']]\n",
    "Y=df[\"Price\"]>500000\n",
    "Y_test=dftest[\"Price\"]>500000\n",
    "clf=clf.fit(X,Y)\n",
    "Y_pred_test=clf.predict(X_test)"
   ]
  },
  {
   "cell_type": "code",
   "execution_count": 7,
   "metadata": {},
   "outputs": [
    {
     "data": {
      "text/plain": [
       "0.9995711309888494"
      ]
     },
     "execution_count": 7,
     "metadata": {},
     "output_type": "execute_result"
    }
   ],
   "source": [
    "np.mean(Y_test==Y_pred_test)#potencial predictivo del modelo "
   ]
  },
  {
   "cell_type": "code",
   "execution_count": 8,
   "metadata": {},
   "outputs": [
    {
     "data": {
      "text/plain": [
       "array([0.09280629, 0.04995391, 0.02635147, 0.21281603, 0.30680882,\n",
       "       0.31126348])"
      ]
     },
     "execution_count": 8,
     "metadata": {},
     "output_type": "execute_result"
    }
   ],
   "source": [
    "clf=RandomForestClassifier(n_estimators=100,n_jobs=-1) # 100 arboles , nucleos disponobles de ordenador\n",
    "clf.fit(X,Y)\n",
    "Y_pred_test=clf.predict(X_test)\n",
    "clf.feature_importances_\n",
    "#n_estimators/max_features/boostrap/n_jobs \n",
    "#muestra vaiables mas relevantes de todos los arboles y de todas las variables  "
   ]
  },
  {
   "cell_type": "code",
   "execution_count": 9,
   "metadata": {},
   "outputs": [
    {
     "data": {
      "text/plain": [
       "0.9995098639872565"
      ]
     },
     "execution_count": 9,
     "metadata": {},
     "output_type": "execute_result"
    }
   ],
   "source": [
    "np.mean(Y_test==Y_pred_test) # la media  decrementa la preddcion en este caso pero en algunos casos aumenta"
   ]
  },
  {
   "cell_type": "code",
   "execution_count": 14,
   "metadata": {},
   "outputs": [],
   "source": [
    "#RabdomForestRegressor()"
   ]
  },
  {
   "cell_type": "code",
   "execution_count": null,
   "metadata": {},
   "outputs": [],
   "source": []
  },
  {
   "cell_type": "code",
   "execution_count": null,
   "metadata": {},
   "outputs": [],
   "source": []
  }
 ],
 "metadata": {
  "kernelspec": {
   "display_name": "Python 3",
   "language": "python",
   "name": "python3"
  },
  "language_info": {
   "codemirror_mode": {
    "name": "ipython",
    "version": 3
   },
   "file_extension": ".py",
   "mimetype": "text/x-python",
   "name": "python",
   "nbconvert_exporter": "python",
   "pygments_lexer": "ipython3",
   "version": "3.7.3"
  }
 },
 "nbformat": 4,
 "nbformat_minor": 2
}
