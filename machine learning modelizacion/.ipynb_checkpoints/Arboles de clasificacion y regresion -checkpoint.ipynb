{
 "cells": [
  {
   "cell_type": "code",
   "execution_count": 6,
   "metadata": {},
   "outputs": [],
   "source": [
    "from sklearn import tree  # ayuda  a hacer el arbol\n",
    "import numpy as np \n",
    "import pandas as pd\n",
    "from sklearn.metrics import r2_score #eficeincia de los calores nuemericos \n",
    "\n",
    "df=pd.read_csv(\"C:/Users/polla/Desktop/curso python esecencial ciencia de datos\\machine learning modelizacion/datos1.csv\")\n",
    "df=df.dropna(subset=[\"Bathrooms\",\"Bedrooms\",\"ParkingSlots\",\"SquareMeters\",\"GpsLongitude\",\"GpsLatitude\"])\n",
    "df=df.sample(frac=1)\n",
    "dftest=df.tail(50000) # ultimos 50000\n",
    "df=df.head(5000)# primeros 50000"
   ]
  },
  {
   "cell_type": "code",
   "execution_count": 4,
   "metadata": {},
   "outputs": [
    {
     "data": {
      "text/html": [
       "<div>\n",
       "<style scoped>\n",
       "    .dataframe tbody tr th:only-of-type {\n",
       "        vertical-align: middle;\n",
       "    }\n",
       "\n",
       "    .dataframe tbody tr th {\n",
       "        vertical-align: top;\n",
       "    }\n",
       "\n",
       "    .dataframe thead th {\n",
       "        text-align: right;\n",
       "    }\n",
       "</style>\n",
       "<table border=\"1\" class=\"dataframe\">\n",
       "  <thead>\n",
       "    <tr style=\"text-align: right;\">\n",
       "      <th></th>\n",
       "      <th>Price</th>\n",
       "      <th>Bathrooms</th>\n",
       "      <th>Bedrooms</th>\n",
       "      <th>ParkingSlots</th>\n",
       "      <th>SquareMeters</th>\n",
       "      <th>GpsLongitude</th>\n",
       "      <th>GpsLatitude</th>\n",
       "      <th>Municipio</th>\n",
       "      <th>Estado</th>\n",
       "    </tr>\n",
       "  </thead>\n",
       "  <tbody>\n",
       "    <tr>\n",
       "      <th>10831</th>\n",
       "      <td>1481000.0</td>\n",
       "      <td>3</td>\n",
       "      <td>3</td>\n",
       "      <td>2</td>\n",
       "      <td>122.0</td>\n",
       "      <td>-98.797724</td>\n",
       "      <td>20.010250</td>\n",
       "      <td>Zempoala</td>\n",
       "      <td>Hidalgo</td>\n",
       "    </tr>\n",
       "    <tr>\n",
       "      <th>3200</th>\n",
       "      <td>742850.0</td>\n",
       "      <td>2</td>\n",
       "      <td>2</td>\n",
       "      <td>1</td>\n",
       "      <td>68.0</td>\n",
       "      <td>-99.805194</td>\n",
       "      <td>16.839594</td>\n",
       "      <td>NaN</td>\n",
       "      <td>Guerrero</td>\n",
       "    </tr>\n",
       "    <tr>\n",
       "      <th>7802</th>\n",
       "      <td>699000.0</td>\n",
       "      <td>2</td>\n",
       "      <td>2</td>\n",
       "      <td>1</td>\n",
       "      <td>60.0</td>\n",
       "      <td>-98.880660</td>\n",
       "      <td>18.761947</td>\n",
       "      <td>Ayala Municipality</td>\n",
       "      <td>Morelos</td>\n",
       "    </tr>\n",
       "    <tr>\n",
       "      <th>4333</th>\n",
       "      <td>1690000.0</td>\n",
       "      <td>3</td>\n",
       "      <td>3</td>\n",
       "      <td>2</td>\n",
       "      <td>111.0</td>\n",
       "      <td>-98.786069</td>\n",
       "      <td>20.050907</td>\n",
       "      <td>NaN</td>\n",
       "      <td>Hidalgo</td>\n",
       "    </tr>\n",
       "    <tr>\n",
       "      <th>4073</th>\n",
       "      <td>1883000.0</td>\n",
       "      <td>3</td>\n",
       "      <td>3</td>\n",
       "      <td>2</td>\n",
       "      <td>162.0</td>\n",
       "      <td>-103.708001</td>\n",
       "      <td>19.289687</td>\n",
       "      <td>NaN</td>\n",
       "      <td>Colima</td>\n",
       "    </tr>\n",
       "  </tbody>\n",
       "</table>\n",
       "</div>"
      ],
      "text/plain": [
       "           Price  Bathrooms  Bedrooms  ParkingSlots  SquareMeters  \\\n",
       "10831  1481000.0          3         3             2         122.0   \n",
       "3200    742850.0          2         2             1          68.0   \n",
       "7802    699000.0          2         2             1          60.0   \n",
       "4333   1690000.0          3         3             2         111.0   \n",
       "4073   1883000.0          3         3             2         162.0   \n",
       "\n",
       "       GpsLongitude  GpsLatitude           Municipio    Estado  \n",
       "10831    -98.797724    20.010250            Zempoala   Hidalgo  \n",
       "3200     -99.805194    16.839594                 NaN  Guerrero  \n",
       "7802     -98.880660    18.761947  Ayala Municipality   Morelos  \n",
       "4333     -98.786069    20.050907                 NaN   Hidalgo  \n",
       "4073    -103.708001    19.289687                 NaN    Colima  "
      ]
     },
     "execution_count": 4,
     "metadata": {},
     "output_type": "execute_result"
    }
   ],
   "source": [
    "df.head()"
   ]
  },
  {
   "cell_type": "code",
   "execution_count": 7,
   "metadata": {},
   "outputs": [],
   "source": [
    "# ajusra modelo clasificacion \n",
    "clf=tree.DecisionTreeClassifier()\n",
    "X=df[[\"Bathrooms\",\"Bedrooms\",\"ParkingSlots\",\"SquareMeters\",\"GpsLongitude\",\"GpsLatitude\"]]\n",
    "X_test=dftest[[\"Bathrooms\",\"Bedrooms\",\"ParkingSlots\",\"SquareMeters\",\"GpsLongitude\",\"GpsLatitude\"]]\n",
    "Y=df[\"Price\"]>500000\n",
    "Y_test=dftest[\"Price\"]>500000\n",
    "clf=clf.fit(X,Y)\n",
    "Y_pred=clf.predict(X)\n",
    "Y_pred_test=clf.predict(X_test)\n",
    "# max_depth= profundidad maxima , min_samples_split= numero de particiones/min _samples_leaf,max_features=forzar variables que queramos usar"
   ]
  },
  {
   "cell_type": "code",
   "execution_count": 8,
   "metadata": {},
   "outputs": [
    {
     "data": {
      "text/plain": [
       "0.9994"
      ]
     },
     "execution_count": 8,
     "metadata": {},
     "output_type": "execute_result"
    }
   ],
   "source": [
    "np.mean(Y==Y_pred) #clasifica el modelo  \n",
    "#evitarlo por que no  se vizualiza bien el modelo "
   ]
  },
  {
   "cell_type": "code",
   "execution_count": 9,
   "metadata": {},
   "outputs": [
    {
     "data": {
      "text/plain": [
       "0.9806396274966304"
      ]
     },
     "execution_count": 9,
     "metadata": {},
     "output_type": "execute_result"
    }
   ],
   "source": [
    "np.mean(Y_test==Y_pred_test)\n",
    "#predice correctamente el 98 %"
   ]
  },
  {
   "cell_type": "code",
   "execution_count": 13,
   "metadata": {},
   "outputs": [
    {
     "name": "stdout",
     "output_type": "stream",
     "text": [
      "R cuadrado: 0.9998506193016515\n",
      "R cuadrado test 0.6720290341389679\n"
     ]
    }
   ],
   "source": [
    "#variables regresosas\n",
    "clf=tree.DecisionTreeRegressor()\n",
    "Y=df[\"Price\"]\n",
    "Y_test=dftest[\"Price\"]\n",
    "clf=clf.fit(X,Y)\n",
    "Y_pred=clf.predict(X)\n",
    "Y_pred_test=clf.predict(X_test)\n",
    "\n",
    "print(\"R cuadrado:\",r2_score(Y,Y_pred))\n",
    "print(\"R cuadrado test\",r2_score(Y_test,Y_pred_test))\n",
    "#99 datos internos\n",
    "#67 cn datos externos"
   ]
  }
 ],
 "metadata": {
  "kernelspec": {
   "display_name": "Python 3",
   "language": "python",
   "name": "python3"
  },
  "language_info": {
   "codemirror_mode": {
    "name": "ipython",
    "version": 3
   },
   "file_extension": ".py",
   "mimetype": "text/x-python",
   "name": "python",
   "nbconvert_exporter": "python",
   "pygments_lexer": "ipython3",
   "version": "3.7.3"
  }
 },
 "nbformat": 4,
 "nbformat_minor": 2
}
