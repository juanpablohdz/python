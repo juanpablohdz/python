{
 "cells": [
  {
   "cell_type": "code",
   "execution_count": 1,
   "metadata": {},
   "outputs": [
    {
     "name": "stderr",
     "output_type": "stream",
     "text": [
      "C:\\Users\\polla\\Anaconda3\\lib\\importlib\\_bootstrap.py:219: RuntimeWarning: numpy.ufunc size changed, may indicate binary incompatibility. Expected 192 from C header, got 216 from PyObject\n",
      "  return f(*args, **kwds)\n"
     ]
    }
   ],
   "source": [
    "import pandas as pd\n",
    "import numpy as np\n",
    "from sklearn.linear_model import LogisticRegression\n",
    "from sklearn.metrics import  confusion_matrix#FORMA DE RESUMIR LOS DATOS Y PRECISION DE LOS MODELOS\n",
    "import matplotlib .pyplot as plt\n",
    "df= pd.read_csv(\"C:/Users/polla/Desktop/curso python esecencial ciencia de datos/machine learning modelizacion/datos1.csv\")"
   ]
  },
  {
   "cell_type": "code",
   "execution_count": 3,
   "metadata": {},
   "outputs": [],
   "source": [
    "df=df.dropna(subset=[\"Price\"])\n",
    "df=df.sample(frac=1).head(10000)\n",
    "Y=df[\"Price\"]<500000 #True =1 / False = 0 // interpretacion de el precio de casas\n",
    "X=df[[\"SquareMeters\"]]"
   ]
  },
  {
   "cell_type": "code",
   "execution_count": 5,
   "metadata": {},
   "outputs": [
    {
     "name": "stderr",
     "output_type": "stream",
     "text": [
      "C:\\Users\\polla\\Anaconda3\\lib\\site-packages\\sklearn\\linear_model\\logistic.py:433: FutureWarning: Default solver will be changed to 'lbfgs' in 0.22. Specify a solver to silence this warning.\n",
      "  FutureWarning)\n"
     ]
    }
   ],
   "source": [
    "#AJUSTA EL MODELO \n",
    "logreg=LogisticRegression()\n",
    "logreg.fit(X,Y) #AJUSTA \n",
    "Y_pred = logreg.predict(X)"
   ]
  },
  {
   "cell_type": "code",
   "execution_count": 6,
   "metadata": {},
   "outputs": [
    {
     "data": {
      "text/plain": [
       "array([[0.956, 0.044],\n",
       "       [0.981, 0.019],\n",
       "       [1.   , 0.   ],\n",
       "       ...,\n",
       "       [1.   , 0.   ],\n",
       "       [0.937, 0.063],\n",
       "       [1.   , 0.   ]])"
      ]
     },
     "execution_count": 6,
     "metadata": {},
     "output_type": "execute_result"
    }
   ],
   "source": [
    "np.round(logreg.predict_proba(X),3)#seleccionar las categorias  con probabilidades superiores\n",
    "#1 tiene la probabilidad  del 95 de 0 y 0.044 a 1"
   ]
  },
  {
   "cell_type": "code",
   "execution_count": 7,
   "metadata": {},
   "outputs": [
    {
     "data": {
      "text/plain": [
       "0.978"
      ]
     },
     "execution_count": 7,
     "metadata": {},
     "output_type": "execute_result"
    }
   ],
   "source": [
    "#evaluar la efiencia del modelo\n",
    "#si es coincidencia o no lo es\n",
    "np.mean(Y_pred==Y)"
   ]
  },
  {
   "cell_type": "code",
   "execution_count": 8,
   "metadata": {},
   "outputs": [
    {
     "data": {
      "text/plain": [
       "0.022"
      ]
     },
     "execution_count": 8,
     "metadata": {},
     "output_type": "execute_result"
    }
   ],
   "source": [
    "np.mean(Y) #ESTE MODELO ES TAN BUENO \n",
    "#DECIR QUE CUALQUIER CASA PUEDA VALER UNOS 500000 es  no va a valer eso  dependiendo de los metros cuadrado"
   ]
  },
  {
   "cell_type": "code",
   "execution_count": 9,
   "metadata": {},
   "outputs": [
    {
     "name": "stdout",
     "output_type": "stream",
     "text": [
      "[[9780    0]\n",
      " [ 220    0]]\n"
     ]
    }
   ],
   "source": [
    "#matriz de confucion\n",
    "confusion_matrix=confusion_matrix (Y,Y_pred)\n",
    "print(confusion_matrix)\n",
    "#9780= son los casos de 0  y 1 de false o true\n",
    "#220=casos de 1  que habian dicho que no pero si\n",
    "#0abajo= casos que no retrasado"
   ]
  },
  {
   "cell_type": "code",
   "execution_count": null,
   "metadata": {},
   "outputs": [],
   "source": []
  }
 ],
 "metadata": {
  "kernelspec": {
   "display_name": "Python 3",
   "language": "python",
   "name": "python3"
  },
  "language_info": {
   "codemirror_mode": {
    "name": "ipython",
    "version": 3
   },
   "file_extension": ".py",
   "mimetype": "text/x-python",
   "name": "python",
   "nbconvert_exporter": "python",
   "pygments_lexer": "ipython3",
   "version": "3.7.3"
  }
 },
 "nbformat": 4,
 "nbformat_minor": 2
}
