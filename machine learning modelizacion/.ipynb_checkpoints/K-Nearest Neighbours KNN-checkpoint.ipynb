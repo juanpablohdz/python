{
 "cells": [
  {
   "cell_type": "markdown",
   "metadata": {},
   "source": [
    "k-vecinos mas sercanos"
   ]
  },
  {
   "cell_type": "code",
   "execution_count": 1,
   "metadata": {},
   "outputs": [
    {
     "name": "stderr",
     "output_type": "stream",
     "text": [
      "C:\\Users\\polla\\Anaconda3\\lib\\importlib\\_bootstrap.py:219: RuntimeWarning: numpy.ufunc size changed, may indicate binary incompatibility. Expected 192 from C header, got 216 from PyObject\n",
      "  return f(*args, **kwds)\n"
     ]
    }
   ],
   "source": [
    "from sklearn.neighbors import KNeighborsClassifier\n",
    "import numpy as np\n",
    "import  pandas as pd\n",
    "df=pd.read_csv(\"C:/Users/polla/Desktop/curso python esecencial ciencia de datos/machine learning clustering/datos1.csv\",nrows=1e6)"
   ]
  },
  {
   "cell_type": "code",
   "execution_count": 12,
   "metadata": {},
   "outputs": [],
   "source": [
    "newdf=df[[\"Price\",\"SquareMeters\",\"GpsLongitude\",\"GpsLatitude\"]].dropna()\n",
    "cols=newdf[newdf.columns[newdf.columns!=\"Price\"]] #son las nos variable respuestas"
   ]
  },
  {
   "cell_type": "code",
   "execution_count": 15,
   "metadata": {},
   "outputs": [],
   "source": [
    "filtro=newdf[\"Price\"]>500000 # variable de filtro en binarios \n",
    "# muestra las casas con mayor precio de 500000"
   ]
  },
  {
   "cell_type": "code",
   "execution_count": 16,
   "metadata": {},
   "outputs": [],
   "source": [
    "#resultado mas atractivo \n",
    "newdf[\"Price\"][filtro]=\"PRECIO\"\n",
    "newdf[\"Price\"][filtro==False]= \"menor precio\""
   ]
  },
  {
   "cell_type": "code",
   "execution_count": 17,
   "metadata": {},
   "outputs": [
    {
     "data": {
      "text/plain": [
       "0    PRECIO\n",
       "1    PRECIO\n",
       "2    PRECIO\n",
       "3    PRECIO\n",
       "4    PRECIO\n",
       "Name: Price, dtype: object"
      ]
     },
     "execution_count": 17,
     "metadata": {},
     "output_type": "execute_result"
    }
   ],
   "source": [
    "newdf[\"Price\"].head()#muestra variable respuesta en funcion si cuasta mas o menos"
   ]
  },
  {
   "cell_type": "code",
   "execution_count": 18,
   "metadata": {},
   "outputs": [],
   "source": [
    "nbrs_3=KNeighborsClassifier(n_neighbors=3,n_jobs=-1)\n",
    "#ajustar modelo  con numero de vecinos 3 y usar nucleos del procesado 1"
   ]
  },
  {
   "cell_type": "code",
   "execution_count": 19,
   "metadata": {},
   "outputs": [
    {
     "data": {
      "text/plain": [
       "KNeighborsClassifier(algorithm='auto', leaf_size=30, metric='minkowski',\n",
       "           metric_params=None, n_jobs=-1, n_neighbors=3, p=2,\n",
       "           weights='uniform')"
      ]
     },
     "execution_count": 19,
     "metadata": {},
     "output_type": "execute_result"
    }
   ],
   "source": [
    "nbrs_3.fit(cols,newdf[\"Price\"])#predice columna respuesta de mneor precio y precio"
   ]
  },
  {
   "cell_type": "code",
   "execution_count": 20,
   "metadata": {},
   "outputs": [],
   "source": [
    "predicciones_3=nbrs_3.predict(cols) # predicciones obtenidas con clasificacion con k vecinos mas sercanos "
   ]
  },
  {
   "cell_type": "code",
   "execution_count": 21,
   "metadata": {},
   "outputs": [
    {
     "data": {
      "text/plain": [
       "0.986214924641588"
      ]
     },
     "execution_count": 21,
     "metadata": {},
     "output_type": "execute_result"
    }
   ],
   "source": [
    "np.mean(predicciones_3==newdf[\"Price\"]) # clasifica el 98 % de los casos  pero resulta enganosa  ya que no  ssabemos proporcion de los datos"
   ]
  },
  {
   "cell_type": "code",
   "execution_count": 22,
   "metadata": {},
   "outputs": [
    {
     "data": {
      "text/plain": [
       "0.02168851856390148"
      ]
     },
     "execution_count": 22,
     "metadata": {},
     "output_type": "execute_result"
    }
   ],
   "source": [
    "np.mean(newdf[\"Price\"]==\"menor precio\") #proporcion de los datos  que dice   que hay muy pocas casas menores de 500000"
   ]
  },
  {
   "cell_type": "code",
   "execution_count": 24,
   "metadata": {},
   "outputs": [
    {
     "data": {
      "text/plain": [
       "0.9988359269697341"
      ]
     },
     "execution_count": 24,
     "metadata": {},
     "output_type": "execute_result"
    }
   ],
   "source": [
    "#probar modelo pero con k enesimos mas sercanos \n",
    "nbrs_1=KNeighborsClassifier(n_neighbors=1,n_jobs=-1)\n",
    "nbrs_1.fit(cols,newdf[\"Price\"])\n",
    "predicciones_1=nbrs_1.predict(cols)\n",
    "np.mean(predicciones_1==newdf[\"Price\"]) \n",
    "#solo con e vecino mas sercano obtenemos mejores resultados que mirando los 3 mas sercanos incremento 1 %"
   ]
  },
  {
   "cell_type": "code",
   "execution_count": null,
   "metadata": {},
   "outputs": [],
   "source": [
    "np.mean(newdf[\"Price\"]==\"menor p\")"
   ]
  },
  {
   "cell_type": "code",
   "execution_count": 28,
   "metadata": {},
   "outputs": [
    {
     "name": "stdout",
     "output_type": "stream",
     "text": [
      "[[15962     6]\n",
      " [   13   341]]\n"
     ]
    }
   ],
   "source": [
    "#explorar matris de confucion para ver que tan bien se a predicho los casos \n",
    "from sklearn.metrics import confusion_matrix\n",
    "confusion_matrix=confusion_matrix(newdf[\"Price\"],predicciones_1)\n",
    "print(confusion_matrix)\n",
    "#filas las casas mayores de 50000 y menores \n",
    "#columnas es la prediccion de las casas mayores de 50000 y las que no valen menos\n",
    "#314 es el numero de menores de 500000\n",
    "#15962 son el numero de casas mayores que 50000\n",
    "#13 casas que no valian 50000 y los a clasificado que su valor esta encima de 50000\n",
    "#6 casas que si valen 50000 pero nuestro modelo dice que no "
   ]
  },
  {
   "cell_type": "code",
   "execution_count": null,
   "metadata": {},
   "outputs": [],
   "source": []
  },
  {
   "cell_type": "code",
   "execution_count": null,
   "metadata": {},
   "outputs": [],
   "source": []
  }
 ],
 "metadata": {
  "kernelspec": {
   "display_name": "Python 3",
   "language": "python",
   "name": "python3"
  },
  "language_info": {
   "codemirror_mode": {
    "name": "ipython",
    "version": 3
   },
   "file_extension": ".py",
   "mimetype": "text/x-python",
   "name": "python",
   "nbconvert_exporter": "python",
   "pygments_lexer": "ipython3",
   "version": "3.7.3"
  }
 },
 "nbformat": 4,
 "nbformat_minor": 2
}
