{
 "cells": [
  {
   "cell_type": "markdown",
   "metadata": {},
   "source": [
    "\n",
    "**aproximaccion probabilistica**\n",
    "#**permite detectar casualidades entre eventos**"
   ]
  },
  {
   "cell_type": "markdown",
   "metadata": {},
   "source": [
    "#bernoulli asigna una probabilidad explicita  a que ocurra un evento y una probabilidad explicita a que no ocurra\n",
    "#multinomial Naive Balles asigna una probabilidad basada en el nuemero de veces que ocurre una palabra  en un texto anadiendo un parametro de suavisado\n",
    "#Gaussian Bayes se utiliza para datos continuos asume que las variables regresoras estan distruibuidas normalmente  asignando  \\mu  y sigma en clase concreta}\n"
   ]
  },
  {
   "cell_type": "code",
   "execution_count": 6,
   "metadata": {},
   "outputs": [],
   "source": [
    "from sklearn.naive_bayes import BernoulliNB\n",
    "from sklearn.naive_bayes import MultinomialNB\n",
    "from sklearn.naive_bayes import GaussianNB\n",
    "import pandas as pd\n",
    "import numpy as np\n",
    "df=pd.read_csv(\"C:/Users/polla/Desktop/curso python esecencial ciencia de datos/machine learning modelizacion/datos1.csv\")\n",
    "df=df.sample(frac=1)\n",
    "df=df.head(5000)"
   ]
  },
  {
   "cell_type": "code",
   "execution_count": 7,
   "metadata": {},
   "outputs": [],
   "source": [
    "df=df.dropna(subset=[\"Price\"])"
   ]
  },
  {
   "cell_type": "code",
   "execution_count": 8,
   "metadata": {},
   "outputs": [],
   "source": [
    "Y=df[\"Price\"]>500000"
   ]
  },
  {
   "cell_type": "code",
   "execution_count": 9,
   "metadata": {},
   "outputs": [
    {
     "data": {
      "text/html": [
       "<div>\n",
       "<style scoped>\n",
       "    .dataframe tbody tr th:only-of-type {\n",
       "        vertical-align: middle;\n",
       "    }\n",
       "\n",
       "    .dataframe tbody tr th {\n",
       "        vertical-align: top;\n",
       "    }\n",
       "\n",
       "    .dataframe thead th {\n",
       "        text-align: right;\n",
       "    }\n",
       "</style>\n",
       "<table border=\"1\" class=\"dataframe\">\n",
       "  <thead>\n",
       "    <tr style=\"text-align: right;\">\n",
       "      <th></th>\n",
       "      <th>Price</th>\n",
       "      <th>Bathrooms</th>\n",
       "      <th>Bedrooms</th>\n",
       "      <th>ParkingSlots</th>\n",
       "      <th>SquareMeters</th>\n",
       "      <th>GpsLongitude</th>\n",
       "      <th>GpsLatitude</th>\n",
       "      <th>Municipio</th>\n",
       "      <th>Estado</th>\n",
       "    </tr>\n",
       "  </thead>\n",
       "  <tbody>\n",
       "    <tr>\n",
       "      <th>6820</th>\n",
       "      <td>1262000.0</td>\n",
       "      <td>2</td>\n",
       "      <td>3</td>\n",
       "      <td>1</td>\n",
       "      <td>124.0</td>\n",
       "      <td>-99.222918</td>\n",
       "      <td>18.922911</td>\n",
       "      <td>Cuernavaca</td>\n",
       "      <td>Morelos</td>\n",
       "    </tr>\n",
       "    <tr>\n",
       "      <th>8509</th>\n",
       "      <td>1400000.0</td>\n",
       "      <td>3</td>\n",
       "      <td>3</td>\n",
       "      <td>2</td>\n",
       "      <td>90.0</td>\n",
       "      <td>-99.231535</td>\n",
       "      <td>18.795640</td>\n",
       "      <td>Xochitepec</td>\n",
       "      <td>Morelos</td>\n",
       "    </tr>\n",
       "    <tr>\n",
       "      <th>14463</th>\n",
       "      <td>3400000.0</td>\n",
       "      <td>1</td>\n",
       "      <td>2</td>\n",
       "      <td>1</td>\n",
       "      <td>450.0</td>\n",
       "      <td>-97.867253</td>\n",
       "      <td>22.231325</td>\n",
       "      <td>Tampico</td>\n",
       "      <td>Tamaulipas</td>\n",
       "    </tr>\n",
       "    <tr>\n",
       "      <th>14831</th>\n",
       "      <td>1220000.0</td>\n",
       "      <td>2</td>\n",
       "      <td>3</td>\n",
       "      <td>2</td>\n",
       "      <td>108.0</td>\n",
       "      <td>-102.331353</td>\n",
       "      <td>21.885416</td>\n",
       "      <td>Aguascalientes</td>\n",
       "      <td>Aguascalientes</td>\n",
       "    </tr>\n",
       "    <tr>\n",
       "      <th>1494</th>\n",
       "      <td>5400000.0</td>\n",
       "      <td>4</td>\n",
       "      <td>3</td>\n",
       "      <td>4</td>\n",
       "      <td>280.0</td>\n",
       "      <td>-99.580920</td>\n",
       "      <td>19.262700</td>\n",
       "      <td>Metepec</td>\n",
       "      <td>Estado de México</td>\n",
       "    </tr>\n",
       "  </tbody>\n",
       "</table>\n",
       "</div>"
      ],
      "text/plain": [
       "           Price  Bathrooms  Bedrooms  ParkingSlots  SquareMeters  \\\n",
       "6820   1262000.0          2         3             1         124.0   \n",
       "8509   1400000.0          3         3             2          90.0   \n",
       "14463  3400000.0          1         2             1         450.0   \n",
       "14831  1220000.0          2         3             2         108.0   \n",
       "1494   5400000.0          4         3             4         280.0   \n",
       "\n",
       "       GpsLongitude  GpsLatitude       Municipio            Estado  \n",
       "6820     -99.222918    18.922911      Cuernavaca           Morelos  \n",
       "8509     -99.231535    18.795640      Xochitepec           Morelos  \n",
       "14463    -97.867253    22.231325         Tampico        Tamaulipas  \n",
       "14831   -102.331353    21.885416  Aguascalientes    Aguascalientes  \n",
       "1494     -99.580920    19.262700         Metepec  Estado de México  "
      ]
     },
     "execution_count": 9,
     "metadata": {},
     "output_type": "execute_result"
    }
   ],
   "source": [
    "df.head()"
   ]
  },
  {
   "cell_type": "code",
   "execution_count": 11,
   "metadata": {},
   "outputs": [],
   "source": [
    "df[\"Bathrooms\"]=df[\"Bathrooms\"].apply(str)\n",
    "df[\"Bedrooms\"]=df[\"Bedrooms\"].apply(str)\n",
    "df[\"ParkingSlots\"]=df[\"ParkingSlots\"].apply(str)\n",
    "df[\"SquareMeters\"]=df[\"SquareMeters\"].apply(str)\n",
    "df[\"GpsLongitude\"]=df[\"GpsLongitude\"].apply(str)\n",
    "df[\"GpsLatitude\"]=df[\"GpsLatitude\"].apply(str)\n",
    "X=pd.get_dummies(data=df[['ParkingSlots','Bedrooms','Bathrooms','Municipio','Estado','SquareMeters','GpsLongitude','GpsLatitude']])"
   ]
  },
  {
   "cell_type": "code",
   "execution_count": 12,
   "metadata": {},
   "outputs": [
    {
     "data": {
      "text/html": [
       "<div>\n",
       "<style scoped>\n",
       "    .dataframe tbody tr th:only-of-type {\n",
       "        vertical-align: middle;\n",
       "    }\n",
       "\n",
       "    .dataframe tbody tr th {\n",
       "        vertical-align: top;\n",
       "    }\n",
       "\n",
       "    .dataframe thead th {\n",
       "        text-align: right;\n",
       "    }\n",
       "</style>\n",
       "<table border=\"1\" class=\"dataframe\">\n",
       "  <thead>\n",
       "    <tr style=\"text-align: right;\">\n",
       "      <th></th>\n",
       "      <th>ParkingSlots_1</th>\n",
       "      <th>ParkingSlots_2</th>\n",
       "      <th>ParkingSlots_3</th>\n",
       "      <th>ParkingSlots_4</th>\n",
       "      <th>Bedrooms_1</th>\n",
       "      <th>Bedrooms_2</th>\n",
       "      <th>Bedrooms_3</th>\n",
       "      <th>Bedrooms_4</th>\n",
       "      <th>Bathrooms_1</th>\n",
       "      <th>Bathrooms_2</th>\n",
       "      <th>...</th>\n",
       "      <th>GpsLatitude_32.508547</th>\n",
       "      <th>GpsLatitude_32.51859</th>\n",
       "      <th>GpsLatitude_32.5245141</th>\n",
       "      <th>GpsLatitude_32.536306866378496</th>\n",
       "      <th>GpsLatitude_32.611292999999996</th>\n",
       "      <th>GpsLatitude_32.613537</th>\n",
       "      <th>GpsLatitude_32.6342739</th>\n",
       "      <th>GpsLatitude_32.65402460000001</th>\n",
       "      <th>GpsLatitude_42.411744299999995</th>\n",
       "      <th>GpsLatitude_nan</th>\n",
       "    </tr>\n",
       "  </thead>\n",
       "  <tbody>\n",
       "    <tr>\n",
       "      <th>6820</th>\n",
       "      <td>1</td>\n",
       "      <td>0</td>\n",
       "      <td>0</td>\n",
       "      <td>0</td>\n",
       "      <td>0</td>\n",
       "      <td>0</td>\n",
       "      <td>1</td>\n",
       "      <td>0</td>\n",
       "      <td>0</td>\n",
       "      <td>1</td>\n",
       "      <td>...</td>\n",
       "      <td>0</td>\n",
       "      <td>0</td>\n",
       "      <td>0</td>\n",
       "      <td>0</td>\n",
       "      <td>0</td>\n",
       "      <td>0</td>\n",
       "      <td>0</td>\n",
       "      <td>0</td>\n",
       "      <td>0</td>\n",
       "      <td>0</td>\n",
       "    </tr>\n",
       "    <tr>\n",
       "      <th>8509</th>\n",
       "      <td>0</td>\n",
       "      <td>1</td>\n",
       "      <td>0</td>\n",
       "      <td>0</td>\n",
       "      <td>0</td>\n",
       "      <td>0</td>\n",
       "      <td>1</td>\n",
       "      <td>0</td>\n",
       "      <td>0</td>\n",
       "      <td>0</td>\n",
       "      <td>...</td>\n",
       "      <td>0</td>\n",
       "      <td>0</td>\n",
       "      <td>0</td>\n",
       "      <td>0</td>\n",
       "      <td>0</td>\n",
       "      <td>0</td>\n",
       "      <td>0</td>\n",
       "      <td>0</td>\n",
       "      <td>0</td>\n",
       "      <td>0</td>\n",
       "    </tr>\n",
       "    <tr>\n",
       "      <th>14463</th>\n",
       "      <td>1</td>\n",
       "      <td>0</td>\n",
       "      <td>0</td>\n",
       "      <td>0</td>\n",
       "      <td>0</td>\n",
       "      <td>1</td>\n",
       "      <td>0</td>\n",
       "      <td>0</td>\n",
       "      <td>1</td>\n",
       "      <td>0</td>\n",
       "      <td>...</td>\n",
       "      <td>0</td>\n",
       "      <td>0</td>\n",
       "      <td>0</td>\n",
       "      <td>0</td>\n",
       "      <td>0</td>\n",
       "      <td>0</td>\n",
       "      <td>0</td>\n",
       "      <td>0</td>\n",
       "      <td>0</td>\n",
       "      <td>0</td>\n",
       "    </tr>\n",
       "    <tr>\n",
       "      <th>14831</th>\n",
       "      <td>0</td>\n",
       "      <td>1</td>\n",
       "      <td>0</td>\n",
       "      <td>0</td>\n",
       "      <td>0</td>\n",
       "      <td>0</td>\n",
       "      <td>1</td>\n",
       "      <td>0</td>\n",
       "      <td>0</td>\n",
       "      <td>1</td>\n",
       "      <td>...</td>\n",
       "      <td>0</td>\n",
       "      <td>0</td>\n",
       "      <td>0</td>\n",
       "      <td>0</td>\n",
       "      <td>0</td>\n",
       "      <td>0</td>\n",
       "      <td>0</td>\n",
       "      <td>0</td>\n",
       "      <td>0</td>\n",
       "      <td>0</td>\n",
       "    </tr>\n",
       "    <tr>\n",
       "      <th>1494</th>\n",
       "      <td>0</td>\n",
       "      <td>0</td>\n",
       "      <td>0</td>\n",
       "      <td>1</td>\n",
       "      <td>0</td>\n",
       "      <td>0</td>\n",
       "      <td>1</td>\n",
       "      <td>0</td>\n",
       "      <td>0</td>\n",
       "      <td>0</td>\n",
       "      <td>...</td>\n",
       "      <td>0</td>\n",
       "      <td>0</td>\n",
       "      <td>0</td>\n",
       "      <td>0</td>\n",
       "      <td>0</td>\n",
       "      <td>0</td>\n",
       "      <td>0</td>\n",
       "      <td>0</td>\n",
       "      <td>0</td>\n",
       "      <td>0</td>\n",
       "    </tr>\n",
       "  </tbody>\n",
       "</table>\n",
       "<p>5 rows × 9368 columns</p>\n",
       "</div>"
      ],
      "text/plain": [
       "       ParkingSlots_1  ParkingSlots_2  ParkingSlots_3  ParkingSlots_4  \\\n",
       "6820                1               0               0               0   \n",
       "8509                0               1               0               0   \n",
       "14463               1               0               0               0   \n",
       "14831               0               1               0               0   \n",
       "1494                0               0               0               1   \n",
       "\n",
       "       Bedrooms_1  Bedrooms_2  Bedrooms_3  Bedrooms_4  Bathrooms_1  \\\n",
       "6820            0           0           1           0            0   \n",
       "8509            0           0           1           0            0   \n",
       "14463           0           1           0           0            1   \n",
       "14831           0           0           1           0            0   \n",
       "1494            0           0           1           0            0   \n",
       "\n",
       "       Bathrooms_2  ...  GpsLatitude_32.508547  GpsLatitude_32.51859  \\\n",
       "6820             1  ...                      0                     0   \n",
       "8509             0  ...                      0                     0   \n",
       "14463            0  ...                      0                     0   \n",
       "14831            1  ...                      0                     0   \n",
       "1494             0  ...                      0                     0   \n",
       "\n",
       "       GpsLatitude_32.5245141  GpsLatitude_32.536306866378496  \\\n",
       "6820                        0                               0   \n",
       "8509                        0                               0   \n",
       "14463                       0                               0   \n",
       "14831                       0                               0   \n",
       "1494                        0                               0   \n",
       "\n",
       "       GpsLatitude_32.611292999999996  GpsLatitude_32.613537  \\\n",
       "6820                                0                      0   \n",
       "8509                                0                      0   \n",
       "14463                               0                      0   \n",
       "14831                               0                      0   \n",
       "1494                                0                      0   \n",
       "\n",
       "       GpsLatitude_32.6342739  GpsLatitude_32.65402460000001  \\\n",
       "6820                        0                              0   \n",
       "8509                        0                              0   \n",
       "14463                       0                              0   \n",
       "14831                       0                              0   \n",
       "1494                        0                              0   \n",
       "\n",
       "       GpsLatitude_42.411744299999995  GpsLatitude_nan  \n",
       "6820                                0                0  \n",
       "8509                                0                0  \n",
       "14463                               0                0  \n",
       "14831                               0                0  \n",
       "1494                                0                0  \n",
       "\n",
       "[5 rows x 9368 columns]"
      ]
     },
     "execution_count": 12,
     "metadata": {},
     "output_type": "execute_result"
    }
   ],
   "source": [
    "X.head() #objeto para predecir que  casa cuesta 500000"
   ]
  },
  {
   "cell_type": "code",
   "execution_count": 13,
   "metadata": {},
   "outputs": [],
   "source": [
    "#ajustar el modelo \n",
    "clf=BernoulliNB()#construir objeto\n",
    "#clf=MultnomialNB\n",
    "clf.fit(X,Y)#ajustar modelo \n",
    "Y_pred=clf.predict(X)"
   ]
  },
  {
   "cell_type": "code",
   "execution_count": 14,
   "metadata": {},
   "outputs": [
    {
     "data": {
      "text/plain": [
       "0.9746"
      ]
     },
     "execution_count": 14,
     "metadata": {},
     "output_type": "execute_result"
    }
   ],
   "source": [
    "np.mean(Y==Y_pred) #media general de todos los casos \n",
    "#datos ajustados con una prediccion de 97%"
   ]
  },
  {
   "cell_type": "code",
   "execution_count": 15,
   "metadata": {},
   "outputs": [
    {
     "data": {
      "text/plain": [
       "0.025399999999999978"
      ]
     },
     "execution_count": 15,
     "metadata": {},
     "output_type": "execute_result"
    }
   ],
   "source": [
    "#media de la variable respuesta \n",
    "1-np.mean(Y) \n",
    "#solo estamos ganando "
   ]
  },
  {
   "cell_type": "code",
   "execution_count": 20,
   "metadata": {},
   "outputs": [],
   "source": [
    "df=df.dropna(subset=[\"Bathrooms\",\"Bedrooms\",\"ParkingSlots\",\"SquareMeters\",\"GpsLongitude\",\"GpsLatitude\"])\n",
    "X=df[['Bathrooms','Bedrooms','ParkingSlots','Price']]\n",
    "clf=GaussianNB()\n",
    "clf.fit(X,Y)\n",
    "Y_pred=clf.predict(X)\n"
   ]
  },
  {
   "cell_type": "code",
   "execution_count": 21,
   "metadata": {},
   "outputs": [
    {
     "data": {
      "text/plain": [
       "0.9964"
      ]
     },
     "execution_count": 21,
     "metadata": {},
     "output_type": "execute_result"
    }
   ],
   "source": [
    "np.mean(Y==Y_pred)#analisis textual qe predice el 9964 de nuestras variables "
   ]
  }
 ],
 "metadata": {
  "kernelspec": {
   "display_name": "Python 3",
   "language": "python",
   "name": "python3"
  },
  "language_info": {
   "codemirror_mode": {
    "name": "ipython",
    "version": 3
   },
   "file_extension": ".py",
   "mimetype": "text/x-python",
   "name": "python",
   "nbconvert_exporter": "python",
   "pygments_lexer": "ipython3",
   "version": "3.7.3"
  }
 },
 "nbformat": 4,
 "nbformat_minor": 2
}
