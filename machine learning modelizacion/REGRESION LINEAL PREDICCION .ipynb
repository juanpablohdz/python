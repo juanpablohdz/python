{
 "cells": [
  {
   "cell_type": "code",
   "execution_count": 3,
   "metadata": {},
   "outputs": [],
   "source": [
    "import pandas as pd\n",
    "import numpy as np\n",
    "from sklearn import datasets, linear_model #hacer regresion lineal  ajustar modelo\n",
    "from sklearn.metrics import mean_squared_error,r2_score# funciones para la evaluacion del modelo\n",
    "import matplotlib.pyplot as plt\n",
    "df= pd.read_csv(\"C:/Users/polla/Desktop/curso python esecencial ciencia de datos/machine learning modelizacion/datos1.csv\")"
   ]
  },
  {
   "cell_type": "code",
   "execution_count": 5,
   "metadata": {},
   "outputs": [
    {
     "data": {
      "text/html": [
       "<div>\n",
       "<style scoped>\n",
       "    .dataframe tbody tr th:only-of-type {\n",
       "        vertical-align: middle;\n",
       "    }\n",
       "\n",
       "    .dataframe tbody tr th {\n",
       "        vertical-align: top;\n",
       "    }\n",
       "\n",
       "    .dataframe thead th {\n",
       "        text-align: right;\n",
       "    }\n",
       "</style>\n",
       "<table border=\"1\" class=\"dataframe\">\n",
       "  <thead>\n",
       "    <tr style=\"text-align: right;\">\n",
       "      <th></th>\n",
       "      <th>Price</th>\n",
       "      <th>Bathrooms</th>\n",
       "      <th>Bedrooms</th>\n",
       "      <th>ParkingSlots</th>\n",
       "      <th>SquareMeters</th>\n",
       "      <th>GpsLongitude</th>\n",
       "      <th>GpsLatitude</th>\n",
       "      <th>Municipio</th>\n",
       "      <th>Estado</th>\n",
       "    </tr>\n",
       "  </thead>\n",
       "  <tbody>\n",
       "    <tr>\n",
       "      <th>14252</th>\n",
       "      <td>900000.0</td>\n",
       "      <td>1</td>\n",
       "      <td>3</td>\n",
       "      <td>3</td>\n",
       "      <td>120.0</td>\n",
       "      <td>-96.160918</td>\n",
       "      <td>19.177545</td>\n",
       "      <td>Veracruz</td>\n",
       "      <td>Veracruz</td>\n",
       "    </tr>\n",
       "    <tr>\n",
       "      <th>11639</th>\n",
       "      <td>6400000.0</td>\n",
       "      <td>2</td>\n",
       "      <td>2</td>\n",
       "      <td>1</td>\n",
       "      <td>140.0</td>\n",
       "      <td>-99.173187</td>\n",
       "      <td>19.409553</td>\n",
       "      <td>Cuauhtémoc</td>\n",
       "      <td>Ciudad de México</td>\n",
       "    </tr>\n",
       "    <tr>\n",
       "      <th>15388</th>\n",
       "      <td>8000000.0</td>\n",
       "      <td>4</td>\n",
       "      <td>3</td>\n",
       "      <td>4</td>\n",
       "      <td>1000.0</td>\n",
       "      <td>-102.318128</td>\n",
       "      <td>21.935188</td>\n",
       "      <td>Aguascalientes</td>\n",
       "      <td>Aguascalientes</td>\n",
       "    </tr>\n",
       "    <tr>\n",
       "      <th>8111</th>\n",
       "      <td>2800000.0</td>\n",
       "      <td>3</td>\n",
       "      <td>4</td>\n",
       "      <td>2</td>\n",
       "      <td>250.0</td>\n",
       "      <td>-110.411964</td>\n",
       "      <td>24.100680</td>\n",
       "      <td>La Paz</td>\n",
       "      <td>Baja California Sur</td>\n",
       "    </tr>\n",
       "    <tr>\n",
       "      <th>15654</th>\n",
       "      <td>850000.0</td>\n",
       "      <td>1</td>\n",
       "      <td>3</td>\n",
       "      <td>1</td>\n",
       "      <td>180.0</td>\n",
       "      <td>-99.118847</td>\n",
       "      <td>23.727906</td>\n",
       "      <td>Ciudad Victoria</td>\n",
       "      <td>Tamaulipas</td>\n",
       "    </tr>\n",
       "  </tbody>\n",
       "</table>\n",
       "</div>"
      ],
      "text/plain": [
       "           Price  Bathrooms  Bedrooms  ParkingSlots  SquareMeters  \\\n",
       "14252   900000.0          1         3             3         120.0   \n",
       "11639  6400000.0          2         2             1         140.0   \n",
       "15388  8000000.0          4         3             4        1000.0   \n",
       "8111   2800000.0          3         4             2         250.0   \n",
       "15654   850000.0          1         3             1         180.0   \n",
       "\n",
       "       GpsLongitude  GpsLatitude        Municipio               Estado  \n",
       "14252    -96.160918    19.177545         Veracruz             Veracruz  \n",
       "11639    -99.173187    19.409553       Cuauhtémoc     Ciudad de México  \n",
       "15388   -102.318128    21.935188   Aguascalientes       Aguascalientes  \n",
       "8111    -110.411964    24.100680           La Paz  Baja California Sur  \n",
       "15654    -99.118847    23.727906  Ciudad Victoria           Tamaulipas  "
      ]
     },
     "execution_count": 5,
     "metadata": {},
     "output_type": "execute_result"
    }
   ],
   "source": [
    "df.head()"
   ]
  },
  {
   "cell_type": "code",
   "execution_count": 17,
   "metadata": {},
   "outputs": [],
   "source": [
    "df=df.dropna(subset=[\"Price\"])\n",
    "df=df.sample(frac=1).head(10000)\n",
    "Y=df[\"Price\"]\n",
    "X=df[[\"SquareMeters\"]] \n",
    "#entre las variables mas correlacionadas es capa de obtener un modelo muy predictivo"
   ]
  },
  {
   "cell_type": "code",
   "execution_count": null,
   "metadata": {},
   "outputs": [],
   "source": [
    "df.columns"
   ]
  },
  {
   "cell_type": "markdown",
   "metadata": {},
   "source": [
    "**varianza  a 1 es mejor el modelo ,\n",
    "varianza a 0 no es tan explicativo** "
   ]
  },
  {
   "cell_type": "code",
   "execution_count": 18,
   "metadata": {},
   "outputs": [
    {
     "name": "stdout",
     "output_type": "stream",
     "text": [
      "Coeficientes: [10025.97744348]\n",
      "R Cuadrado 0.2320612384997658\n"
     ]
    }
   ],
   "source": [
    "#ajustar modelo \n",
    "regr=linear_model.LinearRegression()\n",
    "regr.fit(X,Y)#que ajuste con  X  Y  Y\n",
    "print(\"Coeficientes:\",regr.coef_)#VALOR DE LAS BETAS\n",
    "Y_pred=regr.predict(X) #Generar modelos  predicciones \n",
    "print(\"R Cuadrado\",r2_score(Y,Y_pred))#aproximacion de que tan bueno es el modelo\n",
    "#la varianza es el 23% "
   ]
  },
  {
   "cell_type": "code",
   "execution_count": 19,
   "metadata": {},
   "outputs": [
    {
     "data": {
      "image/png": "[encoded data removed]",
      "text/plain": [
       "<Figure size 432x288 with 1 Axes>"
      ]
     },
     "metadata": {
      "needs_background": "light"
     },
     "output_type": "display_data"
    }
   ],
   "source": [
    "plt.scatter(X[1:10000],Y[1:10000],color =\"black\")\n",
    "plt.plot(X[1:10000],Y_pred[1:10000],color=\"Blue\")\n",
    "plt.show()\n",
    "# este modelo no es tan bueno para predecir ya que contiene mucha dispersion de puntos"
   ]
  },
  {
   "cell_type": "code",
   "execution_count": 20,
   "metadata": {},
   "outputs": [],
   "source": [
    "X=df[['Bathrooms','Bedrooms','ParkingSlots','GpsLongitude','GpsLatitude']]\n",
    "df[\"Municipio\"]=df[\"Municipio\"].apply(str)#convierte a str\n",
    "df[\"Estado\"]=df[\"Estado\"].apply(str)#convierte a str\n",
    "\n",
    "dummies=pd.get_dummies(data=df[[\"Municipio\",\"Estado\"]])#convertir el texto a variables dammies lo que hace la variable dammi es comvertir los textos a 1 y 0\n",
    "X=dummies.add(X,fill_value=0)#agrega las nuevas variables a las dummies que ya se habian agregado "
   ]
  },
  {
   "cell_type": "code",
   "execution_count": 22,
   "metadata": {},
   "outputs": [
    {
     "data": {
      "text/plain": [
       "Index(['Bathrooms', 'Bedrooms', 'Estado_Aguascalientes',\n",
       "       'Estado_Baja California', 'Estado_Baja California Sur',\n",
       "       'Estado_Buenos Aires', 'Estado_California', 'Estado_Campeche',\n",
       "       'Estado_Chiapas', 'Estado_Chihuahua',\n",
       "       ...\n",
       "       'Municipio_Zempoala', 'Municipio_Zihuatanejo de Azueta',\n",
       "       'Municipio_Zimatlán de Álvarez', 'Municipio_Zinapécuaro',\n",
       "       'Municipio_Zozocolco de Hidalgo', 'Municipio_Zumpango', 'Municipio_nan',\n",
       "       'Municipio_Álvaro Obregón', 'Municipio_Álvaro Obregón Municipality',\n",
       "       'ParkingSlots'],\n",
       "      dtype='object', length=389)"
      ]
     },
     "execution_count": 22,
     "metadata": {},
     "output_type": "execute_result"
    }
   ],
   "source": [
    "X.columns"
   ]
  },
  {
   "cell_type": "code",
   "execution_count": 24,
   "metadata": {},
   "outputs": [
    {
     "name": "stdout",
     "output_type": "stream",
     "text": [
      "R Cuadrado: 0.5449242097015095\n"
     ]
    }
   ],
   "source": [
    "#ajustar el modelo  de dummies con 389\n",
    "regr=linear_model.LinearRegression()\n",
    "regr.fit(X,Y)\n",
    "#print(\"Coeficientes ,\"regr.coef_\")\n",
    "Y_pred=regr.predict(X)\n",
    "print(\"R Cuadrado:\",r2_score(Y,Y_pred))\n",
    "#tenemos un 54% "
   ]
  },
  {
   "cell_type": "code",
   "execution_count": 27,
   "metadata": {},
   "outputs": [],
   "source": [
    "X=X.add(df[[\"Price\"]],fill_value=0) # agrega las columnas de dummies"
   ]
  },
  {
   "cell_type": "code",
   "execution_count": 28,
   "metadata": {},
   "outputs": [
    {
     "name": "stdout",
     "output_type": "stream",
     "text": [
      "R cuadrado 1.0\n"
     ]
    }
   ],
   "source": [
    "regr=linear_model.LinearRegression()\n",
    "regr.fit(X,Y)\n",
    "#print(\"coeficientes:\",regr.coef_)\n",
    "Y_pred=regr.predict(X)\n",
    "print(\"R cuadrado\",r2_score(Y,Y_pred))\n"
   ]
  },
  {
   "cell_type": "markdown",
   "metadata": {},
   "source": [
    "# nuestro modelo se ajusta a un 100 % es perfecto con la informacion que tenemos podemos predicir un 100 porciento de la varianza \n",
    "# de la respuesta \n",
    "**lo que se hace aqui es predecir internamente los datos  que se pueden convinar con otros y cambiar el porcentaje de prediccion**"
   ]
  }
 ],
 "metadata": {
  "kernelspec": {
   "display_name": "Python 3",
   "language": "python",
   "name": "python3"
  },
  "language_info": {
   "codemirror_mode": {
    "name": "ipython",
    "version": 3
   },
   "file_extension": ".py",
   "mimetype": "text/x-python",
   "name": "python",
   "nbconvert_exporter": "python",
   "pygments_lexer": "ipython3",
   "version": "3.7.3"
  }
 },
 "nbformat": 4,
 "nbformat_minor": 2
}
