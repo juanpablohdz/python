{
 "cells": [
  {
   "cell_type": "markdown",
   "metadata": {},
   "source": [
    "## Modelo matematico\n",
    "#**Estos metodos no son intuitivos  su definicion se trata de un  modelo no probanilistico  de clasificacion binaria , lineal y no lineal**\n",
    "#**Divide grupos de puntos mediante una recta  intentando maximizar las distancia de los puntos mas cercanos a esta por abos lados** "
   ]
  },
  {
   "cell_type": "code",
   "execution_count": 4,
   "metadata": {},
   "outputs": [],
   "source": [
    "from sklearn.svm import SVC\n",
    "import numpy as np \n",
    "import pandas as pd\n",
    "df=pd.read_csv(\"C:/Users/polla/Desktop/curso python esecencial ciencia de datos/machine learning clustering/datos1.csv\")\n",
    "df=df.dropna(subset=[\"Bathrooms\",\"Bedrooms\",\"ParkingSlots\",\"SquareMeters\",\"GpsLongitude\",\"GpsLatitude\"])\n",
    "df=df.sample(frac=1) # remesclar la base de datos aletoriamente \n",
    "df_test=df.tail(1000)\n",
    "df=df.head(1000)"
   ]
  },
  {
   "cell_type": "code",
   "execution_count": null,
   "metadata": {},
   "outputs": [],
   "source": [
    "X=df[[\"Bathrooms\",\"Bedrooms\",\"ParkingSlots\",\"SquareMeters\",\"GpsLongitude\",\"GpsLatitude\"]]#variables para predecir\n",
    "X_test=df_test[[\"Bathrooms\",\"Bedrooms\",\"ParkingSlots\",\"SquareMeters\",\"GpsLongitude\",\"GpsLatitude\"]]# variable para test\n",
    "Y=df[\"Price\"]>500000 # casas mayores de 500000\n",
    "Y_test=df_test[\"Price\"]>5000000#test de y\n",
    "\n",
    "clf=SVC()#Kernel=\"Linear\"  <---ajusta el modelo SVC\n",
    "clf.fit(X,Y)#ajustado de modelo  de X Y\n",
    "Y_pred=clf.predict(X_test)\n",
    "#C/kernel"
   ]
  },
  {
   "cell_type": "code",
   "execution_count": 10,
   "metadata": {},
   "outputs": [
    {
     "data": {
      "text/plain": [
       "0.221"
      ]
     },
     "execution_count": 10,
     "metadata": {},
     "output_type": "execute_result"
    }
   ],
   "source": [
    "np.mean (Y_pred==Y_test)\n",
    "#esta clasificando externamente correctamente el 0.221 = 22.1% de los datos sin kernel lineal "
   ]
  },
  {
   "cell_type": "code",
   "execution_count": 13,
   "metadata": {},
   "outputs": [
    {
     "data": {
      "text/plain": [
       "0.221"
      ]
     },
     "execution_count": 13,
     "metadata": {},
     "output_type": "execute_result"
    }
   ],
   "source": [
    "np.mean (Y_pred==Y_test)\n",
    "#esta clasificando externamente correctamente el 0.221 = 22.1% de los datos con kernel lineal "
   ]
  },
  {
   "cell_type": "code",
   "execution_count": null,
   "metadata": {},
   "outputs": [],
   "source": []
  },
  {
   "cell_type": "code",
   "execution_count": null,
   "metadata": {},
   "outputs": [],
   "source": [
    "#http://scikit-Learn.org/stable/modules/svm.html#svm-kernels\n",
    "#linear/poly/rbf/sigmoid -> Asociados a otros  parametros "
   ]
  },
  {
   "cell_type": "code",
   "execution_count": null,
   "metadata": {},
   "outputs": [],
   "source": [
    "#para kerneles lineales  -> LinearSVC()# es mas potente "
   ]
  }
 ],
 "metadata": {
  "kernelspec": {
   "display_name": "Python 3",
   "language": "python",
   "name": "python3"
  },
  "language_info": {
   "codemirror_mode": {
    "name": "ipython",
    "version": 3
   },
   "file_extension": ".py",
   "mimetype": "text/x-python",
   "name": "python",
   "nbconvert_exporter": "python",
   "pygments_lexer": "ipython3",
   "version": "3.7.3"
  }
 },
 "nbformat": 4,
 "nbformat_minor": 2
}
