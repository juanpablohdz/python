{
 "cells": [
  {
   "cell_type": "code",
   "execution_count": 6,
   "metadata": {},
   "outputs": [],
   "source": [
    "import pandas as pd\n",
    "import numpy as np\n",
    "import matplotlib.pyplot as plt\n",
    "import seaborn as sns \n",
    "np.random.seed(0) #semilla\n",
    "df=pd.read_csv(\"C:/Users/polla/Desktop/curso python esecencial ciencia de datos/Matplotlib/datos1.csv\",nrows=1000000)\n",
    "df=df.sample(frac=1).head(100)"
   ]
  },
  {
   "cell_type": "code",
   "execution_count": 7,
   "metadata": {},
   "outputs": [
    {
     "data": {
      "text/html": [
       "<div>\n",
       "<style scoped>\n",
       "    .dataframe tbody tr th:only-of-type {\n",
       "        vertical-align: middle;\n",
       "    }\n",
       "\n",
       "    .dataframe tbody tr th {\n",
       "        vertical-align: top;\n",
       "    }\n",
       "\n",
       "    .dataframe thead th {\n",
       "        text-align: right;\n",
       "    }\n",
       "</style>\n",
       "<table border=\"1\" class=\"dataframe\">\n",
       "  <thead>\n",
       "    <tr style=\"text-align: right;\">\n",
       "      <th></th>\n",
       "      <th>Price</th>\n",
       "      <th>Bathrooms</th>\n",
       "      <th>Bedrooms</th>\n",
       "      <th>ParkingSlots</th>\n",
       "      <th>SquareMeters</th>\n",
       "      <th>GpsLongitude</th>\n",
       "      <th>GpsLatitude</th>\n",
       "      <th>Municipio</th>\n",
       "      <th>Estado</th>\n",
       "    </tr>\n",
       "  </thead>\n",
       "  <tbody>\n",
       "    <tr>\n",
       "      <th>4691</th>\n",
       "      <td>2300000.0</td>\n",
       "      <td>2</td>\n",
       "      <td>3</td>\n",
       "      <td>2</td>\n",
       "      <td>160.0</td>\n",
       "      <td>-100.446561</td>\n",
       "      <td>20.535071</td>\n",
       "      <td>NaN</td>\n",
       "      <td>Querétaro</td>\n",
       "    </tr>\n",
       "    <tr>\n",
       "      <th>13478</th>\n",
       "      <td>2695000.0</td>\n",
       "      <td>3</td>\n",
       "      <td>4</td>\n",
       "      <td>2</td>\n",
       "      <td>131.0</td>\n",
       "      <td>-103.440748</td>\n",
       "      <td>20.775469</td>\n",
       "      <td>Zapopan</td>\n",
       "      <td>Jalisco</td>\n",
       "    </tr>\n",
       "    <tr>\n",
       "      <th>15564</th>\n",
       "      <td>760000.0</td>\n",
       "      <td>1</td>\n",
       "      <td>2</td>\n",
       "      <td>1</td>\n",
       "      <td>98.0</td>\n",
       "      <td>-106.390864</td>\n",
       "      <td>23.254338</td>\n",
       "      <td>Mazatlán</td>\n",
       "      <td>Sinaloa</td>\n",
       "    </tr>\n",
       "    <tr>\n",
       "      <th>12325</th>\n",
       "      <td>1650000.0</td>\n",
       "      <td>3</td>\n",
       "      <td>3</td>\n",
       "      <td>1</td>\n",
       "      <td>96.0</td>\n",
       "      <td>-99.064696</td>\n",
       "      <td>19.620569</td>\n",
       "      <td>Ecatepec</td>\n",
       "      <td>Estado de México</td>\n",
       "    </tr>\n",
       "    <tr>\n",
       "      <th>4236</th>\n",
       "      <td>2900000.0</td>\n",
       "      <td>3</td>\n",
       "      <td>3</td>\n",
       "      <td>2</td>\n",
       "      <td>250.0</td>\n",
       "      <td>-99.242670</td>\n",
       "      <td>18.842548</td>\n",
       "      <td>NaN</td>\n",
       "      <td>Morelos</td>\n",
       "    </tr>\n",
       "  </tbody>\n",
       "</table>\n",
       "</div>"
      ],
      "text/plain": [
       "           Price  Bathrooms  Bedrooms  ParkingSlots  SquareMeters  \\\n",
       "4691   2300000.0          2         3             2         160.0   \n",
       "13478  2695000.0          3         4             2         131.0   \n",
       "15564   760000.0          1         2             1          98.0   \n",
       "12325  1650000.0          3         3             1          96.0   \n",
       "4236   2900000.0          3         3             2         250.0   \n",
       "\n",
       "       GpsLongitude  GpsLatitude Municipio            Estado  \n",
       "4691    -100.446561    20.535071       NaN         Querétaro  \n",
       "13478   -103.440748    20.775469   Zapopan           Jalisco  \n",
       "15564   -106.390864    23.254338  Mazatlán           Sinaloa  \n",
       "12325    -99.064696    19.620569  Ecatepec  Estado de México  \n",
       "4236     -99.242670    18.842548       NaN           Morelos  "
      ]
     },
     "execution_count": 7,
     "metadata": {},
     "output_type": "execute_result"
    }
   ],
   "source": [
    "df.head()"
   ]
  },
  {
   "cell_type": "code",
   "execution_count": 10,
   "metadata": {},
   "outputs": [
    {
     "data": {
      "text/plain": [
       "<matplotlib.collections.PathCollection at 0x2024051c908>"
      ]
     },
     "execution_count": 10,
     "metadata": {},
     "output_type": "execute_result"
    },
    {
     "data": {
      "image/png": "[encoded data removed]",
      "text/plain": [
       "<Figure size 432x288 with 1 Axes>"
      ]
     },
     "metadata": {
      "needs_background": "light"
     },
     "output_type": "display_data"
    }
   ],
   "source": [
    "plt.scatter(x=df.Price,y=df.GpsLongitude,s=df.GpsLatitude)\n",
    "#"
   ]
  },
  {
   "cell_type": "code",
   "execution_count": 43,
   "metadata": {},
   "outputs": [
    {
     "data": {
      "text/plain": [
       "Text(0.3, -100, 'MI Casa')"
      ]
     },
     "execution_count": 43,
     "metadata": {},
     "output_type": "execute_result"
    },
    {
     "data": {
      "image/png": "[encoded data removed]",
      "text/plain": [
       "<Figure size 432x288 with 1 Axes>"
      ]
     },
     "metadata": {
      "needs_background": "light"
     },
     "output_type": "display_data"
    }
   ],
   "source": [
    "plt.scatter(x=df.Price,y=df.GpsLongitude,s=df.GpsLatitude,alpha=.3,c=df.ParkingSlots.isin([2]))\n",
    "plt.title(\"Precio por latitud y longitud\")\n",
    "plt.xlabel(\"PRECIO\")\n",
    "plt.ylabel(\"LONGITUD\")\n",
    "plt.ylim([0,-120]) #vusualizar en modo vertical para longitud\n",
    "plt.xticks([0,0.0,0,5]) #  para precio \n",
    "plt.text(x=0.3,y=-100,s=\"MI Casa\")"
   ]
  },
  {
   "cell_type": "code",
   "execution_count": null,
   "metadata": {},
   "outputs": [],
   "source": []
  }
 ],
 "metadata": {
  "kernelspec": {
   "display_name": "Python 3",
   "language": "python",
   "name": "python3"
  },
  "language_info": {
   "codemirror_mode": {
    "name": "ipython",
    "version": 3
   },
   "file_extension": ".py",
   "mimetype": "text/x-python",
   "name": "python",
   "nbconvert_exporter": "python",
   "pygments_lexer": "ipython3",
   "version": "3.7.3"
  }
 },
 "nbformat": 4,
 "nbformat_minor": 2
}
