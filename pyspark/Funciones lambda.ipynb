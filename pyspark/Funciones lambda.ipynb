{
 "cells": [
  {
   "cell_type": "code",
   "execution_count": null,
   "metadata": {},
   "outputs": [],
   "source": [
    "from pyspark import  SparkConf , SparkContext # libreias de spark\n",
    "conf=SparkConf().setMaster(\"local\").setAppName(\"Mi programa \") # variable de configuracion \n",
    "sc= SparkContext(conf=conf)# context solo se puede usar 1 vez \n",
    "lines=sc.textFile(\"ejemplo.txt\") #archivo de texto"
   ]
  },
  {
   "cell_type": "code",
   "execution_count": null,
   "metadata": {},
   "outputs": [],
   "source": [
    "resultado=lines.filter(lambda line: \"Python\" in line )#encuentra en cada linea la palabra python"
   ]
  },
  {
   "cell_type": "code",
   "execution_count": null,
   "metadata": {},
   "outputs": [],
   "source": [
    "resultado.count() #numero que tiene de resultado"
   ]
  },
  {
   "cell_type": "code",
   "execution_count": null,
   "metadata": {},
   "outputs": [],
   "source": [
    "resultado.take(3)#muestra los  3  primeros resultados"
   ]
  },
  {
   "cell_type": "code",
   "execution_count": null,
   "metadata": {},
   "outputs": [],
   "source": [
    "lines.filter(lambda x: int() in x)  #esta funcion python no la reconose por lo tanto esta mal "
   ]
  },
  {
   "cell_type": "code",
   "execution_count": null,
   "metadata": {},
   "outputs": [],
   "source": [
    "lines.filter(lambda x: any(i.isdigit()for i in x)).take(5) #busca las variables con numeros \n",
    "# si no las queremos con numeros x:not o count en lugar de take"
   ]
  },
  {
   "cell_type": "code",
   "execution_count": null,
   "metadata": {},
   "outputs": [],
   "source": [
    "#guardar una funcion \n",
    "numeros =lines.filter(lambda x: any(i.isdigit()for i in x))"
   ]
  },
  {
   "cell_type": "code",
   "execution_count": null,
   "metadata": {},
   "outputs": [],
   "source": [
    "numeros.persist() # el objeto va hacer persistente  para que sea rapiudo el programa"
   ]
  }
 ],
 "metadata": {
  "kernelspec": {
   "display_name": "Python 3",
   "language": "python",
   "name": "python3"
  },
  "language_info": {
   "codemirror_mode": {
    "name": "ipython",
    "version": 3
   },
   "file_extension": ".py",
   "mimetype": "text/x-python",
   "name": "python",
   "nbconvert_exporter": "python",
   "pygments_lexer": "ipython3",
   "version": "3.7.3"
  }
 },
 "nbformat": 4,
 "nbformat_minor": 2
}
