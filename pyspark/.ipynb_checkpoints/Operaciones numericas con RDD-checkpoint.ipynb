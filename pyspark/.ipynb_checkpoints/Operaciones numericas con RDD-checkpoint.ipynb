{
 "cells": [
  {
   "cell_type": "code",
   "execution_count": null,
   "metadata": {},
   "outputs": [],
   "source": [
    "#librerias\n",
    "from pyspark import SparkConf, SparkContext\n",
    "from pyspark.sql.types import StringType\n",
    "from pyspark import SQLContext\n",
    "import numpy as np \n",
    "#configuracion\n",
    "conf=SparkConf().setMaster(\"local\").setAppName(\"Mi programa\")\n",
    "sc=SparkContext(conf=conf)\n",
    "sqlContext=SQLContext(sc)\n",
    "#carga df\n",
    "dfspark=sqlContext.read.format(\"csv\").option(\"header\",\"true\").option(\"inferSchema\",\"true\").load(\"C:\\Users\\polla\\Desktop\\curso python esecencial ciencia de datos\\pyspark\")\n",
    "dfspark=dfspark.sample(fraction=0.001,withReplacement=False)#selecciona pequena fraccion de  los datos\n",
    "#fraccion de los datos una vez reemezclados\n",
    "dfspark=dfspark.withColumn(\"Price\",dfspark[\"Price\"].cast(\"integer\"))#transformar esta variable a entera\n",
    "\n",
    "df2=dfspark.na.drop(subset=['Price','SquareMeters','ParkingSlots'])#eliminar datos faltantes \n",
    "df2=df2.filter(\"Price is not NULL\")\n",
    "df2=df2.dropDuplicates()\n"
   ]
  },
  {
   "cell_type": "code",
   "execution_count": null,
   "metadata": {},
   "outputs": [],
   "source": [
    "#sumas de 1 al milln con funcion lamda\n",
    "listas=sc.parallelize(range(1,1000000)) \n",
    "lista.reduce(lambda x,y:x+y) #depende de 2 parametros "
   ]
  },
  {
   "cell_type": "code",
   "execution_count": null,
   "metadata": {},
   "outputs": [],
   "source": [
    "lista.sum() #deve mostar el mismo resultado "
   ]
  },
  {
   "cell_type": "code",
   "execution_count": null,
   "metadata": {},
   "outputs": [],
   "source": [
    "from  pyspark.sql.functions import mean ,stddev,col\n",
    "media =df2.select(mean(col('Price'))).collect() #mean  sobre la columna  y recupera el resultado collecy\n",
    "std=df2.select(stddev(col('Price'))).collect()#funcion desviacion estandar"
   ]
  },
  {
   "cell_type": "code",
   "execution_count": null,
   "metadata": {},
   "outputs": [],
   "source": [
    "std[0[0]  #valor  en corchetes"
   ]
  },
  {
   "cell_type": "code",
   "execution_count": null,
   "metadata": {},
   "outputs": [],
   "source": [
    "df2.withColumn('Diferencia',df2['Price']-df2['SquareMeters']).collect() #resta etre precio y metros cuadrados"
   ]
  },
  {
   "cell_type": "code",
   "execution_count": null,
   "metadata": {},
   "outputs": [],
   "source": [
    "#estandarizacion delos precios con metrs cuadrados \n",
    "df2.withColumn('Standard',(df2['Price']-media[0][0])/std[0][0]).collect()"
   ]
  },
  {
   "cell_type": "code",
   "execution_count": null,
   "metadata": {},
   "outputs": [],
   "source": []
  },
  {
   "cell_type": "code",
   "execution_count": null,
   "metadata": {},
   "outputs": [],
   "source": []
  }
 ],
 "metadata": {
  "kernelspec": {
   "display_name": "Python 3",
   "language": "python",
   "name": "python3"
  },
  "language_info": {
   "codemirror_mode": {
    "name": "ipython",
    "version": 3
   },
   "file_extension": ".py",
   "mimetype": "text/x-python",
   "name": "python",
   "nbconvert_exporter": "python",
   "pygments_lexer": "ipython3",
   "version": "3.7.3"
  }
 },
 "nbformat": 4,
 "nbformat_minor": 2
}
