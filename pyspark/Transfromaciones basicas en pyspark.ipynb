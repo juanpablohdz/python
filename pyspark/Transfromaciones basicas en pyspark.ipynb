{
 "cells": [
  {
   "cell_type": "code",
   "execution_count": null,
   "metadata": {},
   "outputs": [],
   "source": [
    "#librerias\n",
    "from pyspark import SparkConf, SparkContext\n",
    "from pyspark.sql.types import StringType\n",
    "from pyspark import SQLContext\n",
    "import numpy as np \n",
    "#configuracion\n",
    "conf=SparkConf().setMaster(\"local\").setAppName(\"Mi programa\")\n",
    "sc=SparkContext(conf=conf)\n",
    "sqlContext=SQLContext(sc)\n",
    "#carga df\n",
    "dfspark=sqlContext.read.format(\"csv\").option(\"header\",\"true\").option(\"inferSchema\",\"true\").load(\"C:\\Users\\polla\\Desktop\\curso python esecencial ciencia de datos\\pyspark\")\n",
    "dfspark=dfspark.sample(fraction=0.001,withReplacement=False)#selecciona pequena fraccion de  los datos\n",
    "dfspark=dfspark.withColumn(\"Price\",dfspark[\"Price\"].cast(\"integer\"))\n",
    "\n",
    "df2=dfspark.na.drop(subset=['Price','SquareMeters','ParkingSlots'])#eliminar datos faltantes \n",
    "df2=df2.filter(\"Price is not NULL\")\n",
    "df2=df2.dropDuplicates()\n"
   ]
  },
  {
   "cell_type": "code",
   "execution_count": null,
   "metadata": {},
   "outputs": [],
   "source": [
    "#para seleccionar valor [0]\n",
    "df2.select(\"Price\").filter(\"Price > 5000000\").take(5)#filtrar datos  dado el valor numerico aquellos valores mayor de 500000"
   ]
  },
  {
   "cell_type": "code",
   "execution_count": null,
   "metadata": {},
   "outputs": [],
   "source": [
    "df2.filter(\"Price > 500000\").take(5)#filtra los datos "
   ]
  },
  {
   "cell_type": "code",
   "execution_count": null,
   "metadata": {},
   "outputs": [],
   "source": [
    "media =np.mean(df2.select('Price').collect())#crea un objeto \n",
    "df2.select(\"Price\").rdd.map(lambda x: (x-media)**2).take(10)#calcula la distancia al cuadrado en relacion ala media  y muestra 10"
   ]
  },
  {
   "cell_type": "code",
   "execution_count": null,
   "metadata": {},
   "outputs": [],
   "source": [
    "df2.groupBy(\"Municipio\").count.show()#selecciona los datos y los cuenta "
   ]
  },
  {
   "cell_type": "code",
   "execution_count": null,
   "metadata": {},
   "outputs": [],
   "source": [
    "df2.groupBy(\"Estado\").mean(\"Price\")#muestra numero de estados con media de porecios"
   ]
  },
  {
   "cell_type": "code",
   "execution_count": null,
   "metadata": {},
   "outputs": [],
   "source": [
    "df2.select(\"Estado\").rdd.distinct().take (5) #muestra los estados distintos de la base de datos"
   ]
  },
  {
   "cell_type": "code",
   "execution_count": null,
   "metadata": {},
   "outputs": [],
   "source": [
    "df2.select(\"Estados\").rdd.distinct().count() #muesra total de estadis "
   ]
  },
  {
   "cell_type": "code",
   "execution_count": null,
   "metadata": {},
   "outputs": [],
   "source": [
    "df2.orderBy(df2.Price.desc()).take(5)#va a mostrar de forma desendente  el precio y que nos muestre los 5 primeros"
   ]
  },
  {
   "cell_type": "code",
   "execution_count": null,
   "metadata": {},
   "outputs": [],
   "source": []
  }
 ],
 "metadata": {
  "kernelspec": {
   "display_name": "Python 3",
   "language": "python",
   "name": "python3"
  },
  "language_info": {
   "codemirror_mode": {
    "name": "ipython",
    "version": 3
   },
   "file_extension": ".py",
   "mimetype": "text/x-python",
   "name": "python",
   "nbconvert_exporter": "python",
   "pygments_lexer": "ipython3",
   "version": "3.7.3"
  }
 },
 "nbformat": 4,
 "nbformat_minor": 2
}
