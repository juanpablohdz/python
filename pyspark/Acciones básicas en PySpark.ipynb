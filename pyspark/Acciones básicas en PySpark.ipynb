{
 "cells": [
  {
   "cell_type": "code",
   "execution_count": null,
   "metadata": {},
   "outputs": [],
   "source": [
    "#librerias\n",
    "from pyspark import SparkConf, SparkContext\n",
    "from pyspark.sql.types import StringType\n",
    "from pyspark import SQLContext\n",
    "import numpy as np \n",
    "#configuracion\n",
    "conf=SparkConf().setMaster(\"local\").setAppName(\"Mi programa\")\n",
    "sc=SparkContext(conf=conf)\n",
    "sqlContext=SQLContext(sc)\n",
    "#carga df\n",
    "dfspark=sqlContext.read.format(\"csv\").option(\"header\",\"true\").option(\"inferSchema\",\"true\").load(\"C:\\Users\\polla\\Desktop\\curso python esecencial ciencia de datos\\pyspark\")\n",
    "dfspark=dfspark.sample(fraction=0.001,withReplacement=False)#selecciona pequena fraccion de  los datos\n",
    "dfspark=dfspark.withColumn(\"Price\",dfspark[\"Price\"].cast(\"integer\"))\n",
    "\n",
    "df2=dfspark.na.drop(subset=['Price','SquareMeters','ParkingSlots'])#eliminar datos faltantes \n",
    "df2=df2.filter(\"Price is not NULL\")\n",
    "df2=df2.dropDuplicates()"
   ]
  },
  {
   "cell_type": "code",
   "execution_count": null,
   "metadata": {},
   "outputs": [],
   "source": [
    "df2.select(\"Price\").describe().show() #hace una tabla de datos cuantitativos"
   ]
  },
  {
   "cell_type": "code",
   "execution_count": null,
   "metadata": {},
   "outputs": [],
   "source": [
    "df2.select(\"Estado\").rdd.countByValue()#lista de ocurrencias  cuenta todos los datos que que hay por estado "
   ]
  },
  {
   "cell_type": "code",
   "execution_count": null,
   "metadata": {},
   "outputs": [],
   "source": [
    "df2.select(\"Price\").rdd.max() #muestra el maximo "
   ]
  },
  {
   "cell_type": "code",
   "execution_count": null,
   "metadata": {},
   "outputs": [],
   "source": [
    "df2.select(\"Estado\").rdd.collect()#puede usar distinc "
   ]
  },
  {
   "cell_type": "code",
   "execution_count": null,
   "metadata": {},
   "outputs": [],
   "source": [
    "df2.crosstab(\"Price\",\"Estado\").take(2)#tablas de contingencia de 2 variables  "
   ]
  },
  {
   "cell_type": "code",
   "execution_count": null,
   "metadata": {},
   "outputs": [],
   "source": []
  }
 ],
 "metadata": {
  "kernelspec": {
   "display_name": "Python 3",
   "language": "python",
   "name": "python3"
  },
  "language_info": {
   "codemirror_mode": {
    "name": "ipython",
    "version": 3
   },
   "file_extension": ".py",
   "mimetype": "text/x-python",
   "name": "python",
   "nbconvert_exporter": "python",
   "pygments_lexer": "ipython3",
   "version": "3.7.3"
  }
 },
 "nbformat": 4,
 "nbformat_minor": 2
}
